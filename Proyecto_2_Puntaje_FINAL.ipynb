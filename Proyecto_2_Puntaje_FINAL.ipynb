{
  "nbformat": 4,
  "nbformat_minor": 0,
  "metadata": {
    "colab": {
      "name": "Proyecto 2 - Puntaje Maximo_ 0.87800.ipynb",
      "version": "0.3.2",
      "provenance": [],
      "collapsed_sections": [],
      "toc_visible": true
    },
    "language_info": {
      "codemirror_mode": {
        "name": "ipython",
        "version": 3
      },
      "file_extension": ".py",
      "mimetype": "text/x-python",
      "name": "python",
      "nbconvert_exporter": "python",
      "pygments_lexer": "ipython3",
      "version": "3.5.5"
    },
    "kernelspec": {
      "name": "python3",
      "display_name": "Python 3"
    },
    "accelerator": "GPU"
  },
  "cells": [
    {
      "metadata": {
        "id": "M9urMATrtT0L",
        "colab_type": "text"
      },
      "cell_type": "markdown",
      "source": [
        "# Project 2\n",
        "\n",
        "\n",
        "# Movie Genre Classification\n",
        "\n",
        "Classify a movie genre based on its plot.\n",
        "\n",
        "<img src=\"moviegenre.png\"\n",
        "     style=\"float: left; margin-right: 10px;\" />\n",
        "\n",
        "\n",
        "\n",
        "\n",
        "https://www.kaggle.com/c/miia4200-20191-p2-moviegenreclassification/overview\n",
        "\n",
        "\n",
        "### Data\n",
        "\n",
        "Input:\n",
        "- movie plot\n",
        "\n",
        "Output:\n",
        "Probability of the movie belong to each genre\n",
        "\n",
        "\n",
        "### Evaluation\n",
        "\n",
        "- 20% API\n",
        "- 30% Create a solution using with a Machine Learning algorithm - Presentation (5 slides)\n",
        "- 50% Performance in the Kaggle competition (Normalized acording to class performance in the private leaderboard)\n",
        "\n",
        "\n",
        "### Acknowledgements\n",
        "\n",
        "We thank Professor Fabio Gonzalez, Ph.D. and his student John Arevalo for providing this dataset.\n",
        "\n",
        "See https://arxiv.org/abs/1702.01992"
      ]
    },
    {
      "metadata": {
        "id": "Hyr4MuSOcPWE",
        "colab_type": "code",
        "colab": {}
      },
      "cell_type": "code",
      "source": [
        "!cat /proc/cpuinfo"
      ],
      "execution_count": 0,
      "outputs": []
    },
    {
      "metadata": {
        "id": "mtZCJncCTtq9",
        "colab_type": "text"
      },
      "cell_type": "markdown",
      "source": [
        "**Integrantes: **\n",
        "\n",
        "\n",
        "*   David Fajardo\n",
        "*   Andrés Motta\n",
        "*   Diego Restrepo\n"
      ]
    },
    {
      "metadata": {
        "id": "cwWyUddD3dpf",
        "colab_type": "text"
      },
      "cell_type": "markdown",
      "source": [
        "## 1 Import Libraries and Dataset"
      ]
    },
    {
      "metadata": {
        "id": "60gNcDrrtT0N",
        "colab_type": "code",
        "outputId": "72398e46-d83f-4027-c08a-0a7358e991aa",
        "colab": {
          "base_uri": "https://localhost:8080/",
          "height": 119
        }
      },
      "cell_type": "code",
      "source": [
        "import pandas as pd\n",
        "import os\n",
        "import numpy as np\n",
        "from sklearn.feature_extraction.text import CountVectorizer\n",
        "from sklearn.preprocessing import MultiLabelBinarizer\n",
        "from sklearn.multiclass import OneVsRestClassifier\n",
        "from sklearn.multioutput import ClassifierChain\n",
        "\n",
        "from sklearn.ensemble import RandomForestRegressor, RandomForestClassifier, GradientBoostingClassifier\n",
        "\n",
        "from sklearn.linear_model import LinearRegression,LogisticRegression, Perceptron\n",
        "\n",
        "from sklearn.svm import LinearSVC\n",
        "\n",
        "import xgboost as xgb\n",
        "\n",
        "from sklearn.metrics import r2_score, roc_auc_score\n",
        "from sklearn.model_selection import train_test_split\n",
        "\n",
        "from sklearn.model_selection import train_test_split, cross_val_score, StratifiedKFold\n",
        "from sklearn.feature_extraction.text import CountVectorizer, TfidfVectorizer\n",
        "from sklearn.ensemble import RandomForestClassifier\n",
        "from sklearn.calibration import CalibratedClassifierCV\n",
        "\n",
        "from nltk.stem.snowball import SnowballStemmer\n",
        "from nltk.stem import WordNetLemmatizer\n",
        "\n",
        "from textblob import TextBlob\n",
        "\n",
        "import nltk\n",
        "nltk.download('stopwords')\n",
        "from nltk.corpus import stopwords\n",
        "import string\n",
        "\n",
        "#porter stemmer\n",
        "nltk.download('punkt')\n",
        "from nltk.stem.porter import *\n",
        "nltk.download('wordnet')\n",
        "\n",
        "# allow plots to appear in the notebook\n",
        "%matplotlib inline\n",
        "import matplotlib.pyplot as plt\n",
        "plt.style.use('fivethirtyeight')"
      ],
      "execution_count": 0,
      "outputs": [
        {
          "output_type": "stream",
          "text": [
            "[nltk_data] Downloading package stopwords to /root/nltk_data...\n",
            "[nltk_data]   Package stopwords is already up-to-date!\n",
            "[nltk_data] Downloading package punkt to /root/nltk_data...\n",
            "[nltk_data]   Package punkt is already up-to-date!\n",
            "[nltk_data] Downloading package wordnet to /root/nltk_data...\n",
            "[nltk_data]   Package wordnet is already up-to-date!\n"
          ],
          "name": "stdout"
        }
      ]
    },
    {
      "metadata": {
        "id": "X_XMgsUqtT0Q",
        "colab_type": "code",
        "colab": {}
      },
      "cell_type": "code",
      "source": [
        "dataTraining = pd.read_csv('https://github.com/albahnsen/PracticalMachineLearningClass/raw/master/datasets/dataTraining.zip', encoding='UTF-8', index_col=0)\n",
        "dataTraining['genres_str'] = dataTraining['genres']\n",
        "dataTraining['genres_str'] = dataTraining['genres_str'].str[1:-1]"
      ],
      "execution_count": 0,
      "outputs": []
    },
    {
      "metadata": {
        "id": "F9S07qaTtT0S",
        "colab_type": "code",
        "colab": {}
      },
      "cell_type": "code",
      "source": [
        "dataTesting = pd.read_csv('https://github.com/albahnsen/PracticalMachineLearningClass/raw/master/datasets/dataTesting.zip', encoding='UTF-8', index_col=0)"
      ],
      "execution_count": 0,
      "outputs": []
    },
    {
      "metadata": {
        "id": "zYnt6FxLtT0U",
        "colab_type": "text"
      },
      "cell_type": "markdown",
      "source": [
        "\n"
      ]
    },
    {
      "metadata": {
        "id": "oJtanCDw5XdH",
        "colab_type": "text"
      },
      "cell_type": "markdown",
      "source": [
        "## 2 Descriptivas"
      ]
    },
    {
      "metadata": {
        "id": "baeJcPyxmYu1",
        "colab_type": "text"
      },
      "cell_type": "markdown",
      "source": [
        "#### 2.1 Buscador de peliculas por genero"
      ]
    },
    {
      "metadata": {
        "id": "XopJJ3qqkyCF",
        "colab_type": "code",
        "outputId": "ed0cc00b-4730-4fb0-91ad-a4d7b2337020",
        "colab": {
          "base_uri": "https://localhost:8080/",
          "height": 283
        }
      },
      "cell_type": "code",
      "source": [
        "def X_Filtrado(clase='Drama'):\n",
        "  con = dataTraining['genres_str'].str.find(clase) != -1\n",
        "  genres = dataTraining.loc[con]\n",
        " \n",
        "  return genres\n",
        "\n",
        "print(X_Filtrado('News').shape)\n",
        "X_Filtrado('News').head(7)"
      ],
      "execution_count": 0,
      "outputs": [
        {
          "output_type": "stream",
          "text": [
            "(7, 6)\n"
          ],
          "name": "stdout"
        },
        {
          "output_type": "execute_result",
          "data": {
            "text/html": [
              "<div>\n",
              "<style scoped>\n",
              "    .dataframe tbody tr th:only-of-type {\n",
              "        vertical-align: middle;\n",
              "    }\n",
              "\n",
              "    .dataframe tbody tr th {\n",
              "        vertical-align: top;\n",
              "    }\n",
              "\n",
              "    .dataframe thead th {\n",
              "        text-align: right;\n",
              "    }\n",
              "</style>\n",
              "<table border=\"1\" class=\"dataframe\">\n",
              "  <thead>\n",
              "    <tr style=\"text-align: right;\">\n",
              "      <th></th>\n",
              "      <th>year</th>\n",
              "      <th>title</th>\n",
              "      <th>plot</th>\n",
              "      <th>genres</th>\n",
              "      <th>rating</th>\n",
              "      <th>genres_str</th>\n",
              "    </tr>\n",
              "  </thead>\n",
              "  <tbody>\n",
              "    <tr>\n",
              "      <th>10953</th>\n",
              "      <td>2013</td>\n",
              "      <td>Kids for Cash</td>\n",
              "      <td>kids for cash is a riveting look behind the no...</td>\n",
              "      <td>['Documentary', 'Crime', 'Drama', 'News']</td>\n",
              "      <td>7.1</td>\n",
              "      <td>'Documentary', 'Crime', 'Drama', 'News'</td>\n",
              "    </tr>\n",
              "    <tr>\n",
              "      <th>1891</th>\n",
              "      <td>2013</td>\n",
              "      <td>Al midan</td>\n",
              "      <td>' the square '  is an intimate observational d...</td>\n",
              "      <td>['Documentary', 'Drama', 'History', 'News']</td>\n",
              "      <td>8.1</td>\n",
              "      <td>'Documentary', 'Drama', 'History', 'News'</td>\n",
              "    </tr>\n",
              "    <tr>\n",
              "      <th>2856</th>\n",
              "      <td>2008</td>\n",
              "      <td>Burma VJ: Reporter i et lukket land</td>\n",
              "      <td>using smuggled footage ,  this documentary tel...</td>\n",
              "      <td>['Documentary', 'History', 'News']</td>\n",
              "      <td>8.0</td>\n",
              "      <td>'Documentary', 'History', 'News'</td>\n",
              "    </tr>\n",
              "    <tr>\n",
              "      <th>4484</th>\n",
              "      <td>2013</td>\n",
              "      <td>Terms and Conditions May Apply</td>\n",
              "      <td>terms and conditions may apply examines the co...</td>\n",
              "      <td>['Documentary', 'News']</td>\n",
              "      <td>7.4</td>\n",
              "      <td>'Documentary', 'News'</td>\n",
              "    </tr>\n",
              "    <tr>\n",
              "      <th>10734</th>\n",
              "      <td>2014</td>\n",
              "      <td>The Internet's Own Boy: The Story of Aaron Swartz</td>\n",
              "      <td>the story of programming prodigy and informati...</td>\n",
              "      <td>['Documentary', 'Biography', 'Crime', 'News']</td>\n",
              "      <td>8.1</td>\n",
              "      <td>'Documentary', 'Biography', 'Crime', 'News'</td>\n",
              "    </tr>\n",
              "    <tr>\n",
              "      <th>3429</th>\n",
              "      <td>2014</td>\n",
              "      <td>Showrunners: The Art of Running a TV Show</td>\n",
              "      <td>' showrunners '  is the first ever feature len...</td>\n",
              "      <td>['Documentary', 'Biography', 'News']</td>\n",
              "      <td>6.8</td>\n",
              "      <td>'Documentary', 'Biography', 'News'</td>\n",
              "    </tr>\n",
              "    <tr>\n",
              "      <th>2603</th>\n",
              "      <td>2011</td>\n",
              "      <td>If a Tree Falls: A Story of the Earth Liberati...</td>\n",
              "      <td>marshall curry ' s documentary tells a timely ...</td>\n",
              "      <td>['Documentary', 'Biography', 'Crime', 'Drama',...</td>\n",
              "      <td>7.2</td>\n",
              "      <td>'Documentary', 'Biography', 'Crime', 'Drama', ...</td>\n",
              "    </tr>\n",
              "  </tbody>\n",
              "</table>\n",
              "</div>"
            ],
            "text/plain": [
              "       year                                              title  \\\n",
              "10953  2013                                      Kids for Cash   \n",
              "1891   2013                                           Al midan   \n",
              "2856   2008                Burma VJ: Reporter i et lukket land   \n",
              "4484   2013                     Terms and Conditions May Apply   \n",
              "10734  2014  The Internet's Own Boy: The Story of Aaron Swartz   \n",
              "3429   2014          Showrunners: The Art of Running a TV Show   \n",
              "2603   2011  If a Tree Falls: A Story of the Earth Liberati...   \n",
              "\n",
              "                                                    plot  \\\n",
              "10953  kids for cash is a riveting look behind the no...   \n",
              "1891   ' the square '  is an intimate observational d...   \n",
              "2856   using smuggled footage ,  this documentary tel...   \n",
              "4484   terms and conditions may apply examines the co...   \n",
              "10734  the story of programming prodigy and informati...   \n",
              "3429   ' showrunners '  is the first ever feature len...   \n",
              "2603   marshall curry ' s documentary tells a timely ...   \n",
              "\n",
              "                                                  genres  rating  \\\n",
              "10953          ['Documentary', 'Crime', 'Drama', 'News']     7.1   \n",
              "1891         ['Documentary', 'Drama', 'History', 'News']     8.1   \n",
              "2856                  ['Documentary', 'History', 'News']     8.0   \n",
              "4484                             ['Documentary', 'News']     7.4   \n",
              "10734      ['Documentary', 'Biography', 'Crime', 'News']     8.1   \n",
              "3429                ['Documentary', 'Biography', 'News']     6.8   \n",
              "2603   ['Documentary', 'Biography', 'Crime', 'Drama',...     7.2   \n",
              "\n",
              "                                              genres_str  \n",
              "10953            'Documentary', 'Crime', 'Drama', 'News'  \n",
              "1891           'Documentary', 'Drama', 'History', 'News'  \n",
              "2856                    'Documentary', 'History', 'News'  \n",
              "4484                               'Documentary', 'News'  \n",
              "10734        'Documentary', 'Biography', 'Crime', 'News'  \n",
              "3429                  'Documentary', 'Biography', 'News'  \n",
              "2603   'Documentary', 'Biography', 'Crime', 'Drama', ...  "
            ]
          },
          "metadata": {
            "tags": []
          },
          "execution_count": 29
        }
      ]
    },
    {
      "metadata": {
        "id": "ozCwvtC4mSns",
        "colab_type": "code",
        "outputId": "11a2e1cf-6578-458e-fbbc-1db227cfddcf",
        "colab": {
          "base_uri": "https://localhost:8080/",
          "height": 88
        }
      },
      "cell_type": "code",
      "source": [
        "ind=1869\n",
        "print('title:',dataTraining.loc[ind,'title'])\n",
        "print('genres:',dataTraining.loc[ind,'genres_str'])\n",
        "print('plot:',dataTraining.loc[ind,'plot'])"
      ],
      "execution_count": 0,
      "outputs": [
        {
          "output_type": "stream",
          "text": [
            "title: Delta Farce\n",
            "genres: 'Action', 'Adventure', 'Comedy'\n",
            "plot: when three small town national guardsmen bound for iraq are unknowingly dropped into mexico ,  their confusion leads them to  \" liberate \"  a small village from a band of corrupt federales\n"
          ],
          "name": "stdout"
        }
      ]
    },
    {
      "metadata": {
        "id": "U2q-CaUq6Etl",
        "colab_type": "text"
      },
      "cell_type": "markdown",
      "source": [
        "#### 2.2 Cantidad de peliculas por genero"
      ]
    },
    {
      "metadata": {
        "id": "WnIKWV1r4xRz",
        "colab_type": "code",
        "outputId": "435c17c6-5f44-4852-e8cc-9d35f2f5527e",
        "colab": {
          "base_uri": "https://localhost:8080/",
          "height": 793
        }
      },
      "cell_type": "code",
      "source": [
        "cant=dataTraining['genres_str'].str.split(',\\s+').apply(lambda x: pd.Series(x).value_counts()).sum().to_frame().sort_values(by=[0],ascending=False)\n",
        "cant['prop']=cant[0]/dataTraining.shape[0]\n",
        "cant"
      ],
      "execution_count": 0,
      "outputs": [
        {
          "output_type": "execute_result",
          "data": {
            "text/html": [
              "<div>\n",
              "<style scoped>\n",
              "    .dataframe tbody tr th:only-of-type {\n",
              "        vertical-align: middle;\n",
              "    }\n",
              "\n",
              "    .dataframe tbody tr th {\n",
              "        vertical-align: top;\n",
              "    }\n",
              "\n",
              "    .dataframe thead th {\n",
              "        text-align: right;\n",
              "    }\n",
              "</style>\n",
              "<table border=\"1\" class=\"dataframe\">\n",
              "  <thead>\n",
              "    <tr style=\"text-align: right;\">\n",
              "      <th></th>\n",
              "      <th>0</th>\n",
              "      <th>prop</th>\n",
              "    </tr>\n",
              "  </thead>\n",
              "  <tbody>\n",
              "    <tr>\n",
              "      <th>'Drama'</th>\n",
              "      <td>3965.0</td>\n",
              "      <td>0.502217</td>\n",
              "    </tr>\n",
              "    <tr>\n",
              "      <th>'Comedy'</th>\n",
              "      <td>3046.0</td>\n",
              "      <td>0.385814</td>\n",
              "    </tr>\n",
              "    <tr>\n",
              "      <th>'Thriller'</th>\n",
              "      <td>2024.0</td>\n",
              "      <td>0.256365</td>\n",
              "    </tr>\n",
              "    <tr>\n",
              "      <th>'Romance'</th>\n",
              "      <td>1892.0</td>\n",
              "      <td>0.239645</td>\n",
              "    </tr>\n",
              "    <tr>\n",
              "      <th>'Crime'</th>\n",
              "      <td>1447.0</td>\n",
              "      <td>0.183281</td>\n",
              "    </tr>\n",
              "    <tr>\n",
              "      <th>'Action'</th>\n",
              "      <td>1303.0</td>\n",
              "      <td>0.165041</td>\n",
              "    </tr>\n",
              "    <tr>\n",
              "      <th>'Adventure'</th>\n",
              "      <td>1024.0</td>\n",
              "      <td>0.129702</td>\n",
              "    </tr>\n",
              "    <tr>\n",
              "      <th>'Horror'</th>\n",
              "      <td>954.0</td>\n",
              "      <td>0.120836</td>\n",
              "    </tr>\n",
              "    <tr>\n",
              "      <th>'Mystery'</th>\n",
              "      <td>759.0</td>\n",
              "      <td>0.096137</td>\n",
              "    </tr>\n",
              "    <tr>\n",
              "      <th>'Sci-Fi'</th>\n",
              "      <td>723.0</td>\n",
              "      <td>0.091577</td>\n",
              "    </tr>\n",
              "    <tr>\n",
              "      <th>'Fantasy'</th>\n",
              "      <td>707.0</td>\n",
              "      <td>0.089550</td>\n",
              "    </tr>\n",
              "    <tr>\n",
              "      <th>'Family'</th>\n",
              "      <td>682.0</td>\n",
              "      <td>0.086384</td>\n",
              "    </tr>\n",
              "    <tr>\n",
              "      <th>'Documentary'</th>\n",
              "      <td>419.0</td>\n",
              "      <td>0.053072</td>\n",
              "    </tr>\n",
              "    <tr>\n",
              "      <th>'Biography'</th>\n",
              "      <td>373.0</td>\n",
              "      <td>0.047245</td>\n",
              "    </tr>\n",
              "    <tr>\n",
              "      <th>'War'</th>\n",
              "      <td>348.0</td>\n",
              "      <td>0.044079</td>\n",
              "    </tr>\n",
              "    <tr>\n",
              "      <th>'Music'</th>\n",
              "      <td>341.0</td>\n",
              "      <td>0.043192</td>\n",
              "    </tr>\n",
              "    <tr>\n",
              "      <th>'History'</th>\n",
              "      <td>273.0</td>\n",
              "      <td>0.034579</td>\n",
              "    </tr>\n",
              "    <tr>\n",
              "      <th>'Musical'</th>\n",
              "      <td>271.0</td>\n",
              "      <td>0.034326</td>\n",
              "    </tr>\n",
              "    <tr>\n",
              "      <th>'Sport'</th>\n",
              "      <td>261.0</td>\n",
              "      <td>0.033059</td>\n",
              "    </tr>\n",
              "    <tr>\n",
              "      <th>'Animation'</th>\n",
              "      <td>260.0</td>\n",
              "      <td>0.032932</td>\n",
              "    </tr>\n",
              "    <tr>\n",
              "      <th>'Western'</th>\n",
              "      <td>237.0</td>\n",
              "      <td>0.030019</td>\n",
              "    </tr>\n",
              "    <tr>\n",
              "      <th>'Film-Noir'</th>\n",
              "      <td>168.0</td>\n",
              "      <td>0.021279</td>\n",
              "    </tr>\n",
              "    <tr>\n",
              "      <th>'Short'</th>\n",
              "      <td>92.0</td>\n",
              "      <td>0.011653</td>\n",
              "    </tr>\n",
              "    <tr>\n",
              "      <th>'News'</th>\n",
              "      <td>7.0</td>\n",
              "      <td>0.000887</td>\n",
              "    </tr>\n",
              "  </tbody>\n",
              "</table>\n",
              "</div>"
            ],
            "text/plain": [
              "                    0      prop\n",
              "'Drama'        3965.0  0.502217\n",
              "'Comedy'       3046.0  0.385814\n",
              "'Thriller'     2024.0  0.256365\n",
              "'Romance'      1892.0  0.239645\n",
              "'Crime'        1447.0  0.183281\n",
              "'Action'       1303.0  0.165041\n",
              "'Adventure'    1024.0  0.129702\n",
              "'Horror'        954.0  0.120836\n",
              "'Mystery'       759.0  0.096137\n",
              "'Sci-Fi'        723.0  0.091577\n",
              "'Fantasy'       707.0  0.089550\n",
              "'Family'        682.0  0.086384\n",
              "'Documentary'   419.0  0.053072\n",
              "'Biography'     373.0  0.047245\n",
              "'War'           348.0  0.044079\n",
              "'Music'         341.0  0.043192\n",
              "'History'       273.0  0.034579\n",
              "'Musical'       271.0  0.034326\n",
              "'Sport'         261.0  0.033059\n",
              "'Animation'     260.0  0.032932\n",
              "'Western'       237.0  0.030019\n",
              "'Film-Noir'     168.0  0.021279\n",
              "'Short'          92.0  0.011653\n",
              "'News'            7.0  0.000887"
            ]
          },
          "metadata": {
            "tags": []
          },
          "execution_count": 31
        }
      ]
    },
    {
      "metadata": {
        "id": "U1IEQXsp48iB",
        "colab_type": "text"
      },
      "cell_type": "markdown",
      "source": [
        "## 3 Balanceo\n",
        "\n",
        "Problema en el cross validation, por culpa de tener 7 registros de News. Se realizara un over-sampling para este genero."
      ]
    },
    {
      "metadata": {
        "id": "y1fa7UCG4jPt",
        "colab_type": "code",
        "outputId": "6e7f2cda-c392-4656-c7f1-efc6cf9ffc54",
        "colab": {
          "base_uri": "https://localhost:8080/",
          "height": 793
        }
      },
      "cell_type": "code",
      "source": [
        "#13 BALANCEO, Añadir + peliculas de news\n",
        "dataTraining=dataTraining.append([X_Filtrado('News')]*1,ignore_index=True)\n",
        "\n",
        "cant=dataTraining['genres_str'].str.split(',\\s+').apply(lambda x: pd.Series(x).value_counts()).sum().to_frame().sort_values(by=[0],ascending=False)\n",
        "cant['prop']=cant[0]/dataTraining.shape[0]\n",
        "cant"
      ],
      "execution_count": 0,
      "outputs": [
        {
          "output_type": "execute_result",
          "data": {
            "text/html": [
              "<div>\n",
              "<style scoped>\n",
              "    .dataframe tbody tr th:only-of-type {\n",
              "        vertical-align: middle;\n",
              "    }\n",
              "\n",
              "    .dataframe tbody tr th {\n",
              "        vertical-align: top;\n",
              "    }\n",
              "\n",
              "    .dataframe thead th {\n",
              "        text-align: right;\n",
              "    }\n",
              "</style>\n",
              "<table border=\"1\" class=\"dataframe\">\n",
              "  <thead>\n",
              "    <tr style=\"text-align: right;\">\n",
              "      <th></th>\n",
              "      <th>0</th>\n",
              "      <th>prop</th>\n",
              "    </tr>\n",
              "  </thead>\n",
              "  <tbody>\n",
              "    <tr>\n",
              "      <th>'Drama'</th>\n",
              "      <td>3968.0</td>\n",
              "      <td>0.502151</td>\n",
              "    </tr>\n",
              "    <tr>\n",
              "      <th>'Comedy'</th>\n",
              "      <td>3046.0</td>\n",
              "      <td>0.385472</td>\n",
              "    </tr>\n",
              "    <tr>\n",
              "      <th>'Thriller'</th>\n",
              "      <td>2025.0</td>\n",
              "      <td>0.256264</td>\n",
              "    </tr>\n",
              "    <tr>\n",
              "      <th>'Romance'</th>\n",
              "      <td>1892.0</td>\n",
              "      <td>0.239433</td>\n",
              "    </tr>\n",
              "    <tr>\n",
              "      <th>'Crime'</th>\n",
              "      <td>1450.0</td>\n",
              "      <td>0.183498</td>\n",
              "    </tr>\n",
              "    <tr>\n",
              "      <th>'Action'</th>\n",
              "      <td>1303.0</td>\n",
              "      <td>0.164895</td>\n",
              "    </tr>\n",
              "    <tr>\n",
              "      <th>'Adventure'</th>\n",
              "      <td>1024.0</td>\n",
              "      <td>0.129587</td>\n",
              "    </tr>\n",
              "    <tr>\n",
              "      <th>'Horror'</th>\n",
              "      <td>954.0</td>\n",
              "      <td>0.120729</td>\n",
              "    </tr>\n",
              "    <tr>\n",
              "      <th>'Mystery'</th>\n",
              "      <td>759.0</td>\n",
              "      <td>0.096052</td>\n",
              "    </tr>\n",
              "    <tr>\n",
              "      <th>'Sci-Fi'</th>\n",
              "      <td>723.0</td>\n",
              "      <td>0.091496</td>\n",
              "    </tr>\n",
              "    <tr>\n",
              "      <th>'Fantasy'</th>\n",
              "      <td>707.0</td>\n",
              "      <td>0.089471</td>\n",
              "    </tr>\n",
              "    <tr>\n",
              "      <th>'Family'</th>\n",
              "      <td>682.0</td>\n",
              "      <td>0.086307</td>\n",
              "    </tr>\n",
              "    <tr>\n",
              "      <th>'Documentary'</th>\n",
              "      <td>426.0</td>\n",
              "      <td>0.053910</td>\n",
              "    </tr>\n",
              "    <tr>\n",
              "      <th>'Biography'</th>\n",
              "      <td>376.0</td>\n",
              "      <td>0.047583</td>\n",
              "    </tr>\n",
              "    <tr>\n",
              "      <th>'War'</th>\n",
              "      <td>348.0</td>\n",
              "      <td>0.044039</td>\n",
              "    </tr>\n",
              "    <tr>\n",
              "      <th>'Music'</th>\n",
              "      <td>341.0</td>\n",
              "      <td>0.043154</td>\n",
              "    </tr>\n",
              "    <tr>\n",
              "      <th>'History'</th>\n",
              "      <td>276.0</td>\n",
              "      <td>0.034928</td>\n",
              "    </tr>\n",
              "    <tr>\n",
              "      <th>'Musical'</th>\n",
              "      <td>271.0</td>\n",
              "      <td>0.034295</td>\n",
              "    </tr>\n",
              "    <tr>\n",
              "      <th>'Sport'</th>\n",
              "      <td>261.0</td>\n",
              "      <td>0.033030</td>\n",
              "    </tr>\n",
              "    <tr>\n",
              "      <th>'Animation'</th>\n",
              "      <td>260.0</td>\n",
              "      <td>0.032903</td>\n",
              "    </tr>\n",
              "    <tr>\n",
              "      <th>'Western'</th>\n",
              "      <td>237.0</td>\n",
              "      <td>0.029992</td>\n",
              "    </tr>\n",
              "    <tr>\n",
              "      <th>'Film-Noir'</th>\n",
              "      <td>168.0</td>\n",
              "      <td>0.021260</td>\n",
              "    </tr>\n",
              "    <tr>\n",
              "      <th>'Short'</th>\n",
              "      <td>92.0</td>\n",
              "      <td>0.011643</td>\n",
              "    </tr>\n",
              "    <tr>\n",
              "      <th>'News'</th>\n",
              "      <td>14.0</td>\n",
              "      <td>0.001772</td>\n",
              "    </tr>\n",
              "  </tbody>\n",
              "</table>\n",
              "</div>"
            ],
            "text/plain": [
              "                    0      prop\n",
              "'Drama'        3968.0  0.502151\n",
              "'Comedy'       3046.0  0.385472\n",
              "'Thriller'     2025.0  0.256264\n",
              "'Romance'      1892.0  0.239433\n",
              "'Crime'        1450.0  0.183498\n",
              "'Action'       1303.0  0.164895\n",
              "'Adventure'    1024.0  0.129587\n",
              "'Horror'        954.0  0.120729\n",
              "'Mystery'       759.0  0.096052\n",
              "'Sci-Fi'        723.0  0.091496\n",
              "'Fantasy'       707.0  0.089471\n",
              "'Family'        682.0  0.086307\n",
              "'Documentary'   426.0  0.053910\n",
              "'Biography'     376.0  0.047583\n",
              "'War'           348.0  0.044039\n",
              "'Music'         341.0  0.043154\n",
              "'History'       276.0  0.034928\n",
              "'Musical'       271.0  0.034295\n",
              "'Sport'         261.0  0.033030\n",
              "'Animation'     260.0  0.032903\n",
              "'Western'       237.0  0.029992\n",
              "'Film-Noir'     168.0  0.021260\n",
              "'Short'          92.0  0.011643\n",
              "'News'           14.0  0.001772"
            ]
          },
          "metadata": {
            "tags": []
          },
          "execution_count": 32
        }
      ]
    },
    {
      "metadata": {
        "id": "fkZ_3MIg5rJV",
        "colab_type": "text"
      },
      "cell_type": "markdown",
      "source": [
        "## 4 Feature Engineering"
      ]
    },
    {
      "metadata": {
        "id": "e_rEdz5O4BJ5",
        "colab_type": "text"
      },
      "cell_type": "markdown",
      "source": [
        "### 4.1 Sobre Training"
      ]
    },
    {
      "metadata": {
        "id": "2V3J4dtVtT0V",
        "colab_type": "code",
        "outputId": "d3e6abf8-8d29-42f1-c53d-591951ea0001",
        "colab": {
          "base_uri": "https://localhost:8080/",
          "height": 578
        }
      },
      "cell_type": "code",
      "source": [
        "for i in dataTraining.index:\n",
        "    dataTraining.loc[i,'q_genres']=len(dataTraining.loc[i,'genres_str'].split())\n",
        "    dataTraining.loc[i,'words']=len(dataTraining.loc[i,'plot'].split())\n",
        "    dataTraining.loc[i,'title_words']=len(dataTraining.loc[i,'title'].split())\n",
        "\n",
        "dataTraining['sentiment'] = dataTraining['plot'].astype(str).apply(lambda tweet: TextBlob(tweet).sentiment.polarity)\n",
        "\n",
        "\n",
        "stop = stopwords.words('english') \n",
        "dataTraining['stopwords'] = dataTraining['plot'].apply(lambda x: len([x for x in x.split() if x in stop]))\n",
        "\n",
        "dataTraining['word_count'] = dataTraining['plot'].apply(lambda x: len(str(x).split(\" \")))\n",
        "\n",
        "dataTraining['perc_stopwords']=dataTraining['stopwords']/dataTraining['word_count']\n",
        "\n",
        "#Longitud del plot en caracteres\n",
        "dataTraining['plot_length'] = dataTraining['plot'].astype(str).apply(lambda word: sum(len(word) for word in word.split()))\n",
        "\n",
        "#Longitud promedio de las palabras del plot\n",
        "dataTraining['word_avg_length'] =dataTraining['plot_length']/dataTraining['words'] \n",
        "\n",
        "#Número de  signos de puntuación por \n",
        "count = lambda l1,l2: sum([1 for x in l1 if x in l2])\n",
        "dataTraining['punctuation'] = dataTraining['plot'].astype(str).apply(lambda s: count(s,set(string.punctuation)))\n",
        "\n",
        "#conteo de digitos\n",
        "dataTraining['digits'] = dataTraining['plot'].astype(str).apply(lambda s: count(s,set(string.digits)))\n",
        "\n",
        "#'plot_length','word_avg_length','punctuation','digits'\n",
        "\n",
        "print(dataTraining.shape)\n",
        "dataTraining.head()"
      ],
      "execution_count": 0,
      "outputs": [
        {
          "output_type": "stream",
          "text": [
            "(7902, 17)\n"
          ],
          "name": "stdout"
        },
        {
          "output_type": "execute_result",
          "data": {
            "text/html": [
              "<div>\n",
              "<style scoped>\n",
              "    .dataframe tbody tr th:only-of-type {\n",
              "        vertical-align: middle;\n",
              "    }\n",
              "\n",
              "    .dataframe tbody tr th {\n",
              "        vertical-align: top;\n",
              "    }\n",
              "\n",
              "    .dataframe thead th {\n",
              "        text-align: right;\n",
              "    }\n",
              "</style>\n",
              "<table border=\"1\" class=\"dataframe\">\n",
              "  <thead>\n",
              "    <tr style=\"text-align: right;\">\n",
              "      <th></th>\n",
              "      <th>year</th>\n",
              "      <th>title</th>\n",
              "      <th>plot</th>\n",
              "      <th>genres</th>\n",
              "      <th>rating</th>\n",
              "      <th>genres_str</th>\n",
              "      <th>q_genres</th>\n",
              "      <th>words</th>\n",
              "      <th>title_words</th>\n",
              "      <th>sentiment</th>\n",
              "      <th>stopwords</th>\n",
              "      <th>word_count</th>\n",
              "      <th>perc_stopwords</th>\n",
              "      <th>plot_length</th>\n",
              "      <th>word_avg_length</th>\n",
              "      <th>punctuation</th>\n",
              "      <th>digits</th>\n",
              "    </tr>\n",
              "  </thead>\n",
              "  <tbody>\n",
              "    <tr>\n",
              "      <th>0</th>\n",
              "      <td>2003</td>\n",
              "      <td>Most</td>\n",
              "      <td>most is the story of a single father who takes...</td>\n",
              "      <td>['Short', 'Drama']</td>\n",
              "      <td>8.0</td>\n",
              "      <td>'Short', 'Drama'</td>\n",
              "      <td>2.0</td>\n",
              "      <td>254.0</td>\n",
              "      <td>1.0</td>\n",
              "      <td>-0.017817</td>\n",
              "      <td>107</td>\n",
              "      <td>283</td>\n",
              "      <td>0.378092</td>\n",
              "      <td>954</td>\n",
              "      <td>3.755906</td>\n",
              "      <td>32</td>\n",
              "      <td>0</td>\n",
              "    </tr>\n",
              "    <tr>\n",
              "      <th>1</th>\n",
              "      <td>2008</td>\n",
              "      <td>How to Be a Serial Killer</td>\n",
              "      <td>a serial killer decides to teach the secrets o...</td>\n",
              "      <td>['Comedy', 'Crime', 'Horror']</td>\n",
              "      <td>5.6</td>\n",
              "      <td>'Comedy', 'Crime', 'Horror'</td>\n",
              "      <td>3.0</td>\n",
              "      <td>18.0</td>\n",
              "      <td>6.0</td>\n",
              "      <td>0.500000</td>\n",
              "      <td>7</td>\n",
              "      <td>18</td>\n",
              "      <td>0.388889</td>\n",
              "      <td>77</td>\n",
              "      <td>4.277778</td>\n",
              "      <td>1</td>\n",
              "      <td>0</td>\n",
              "    </tr>\n",
              "    <tr>\n",
              "      <th>2</th>\n",
              "      <td>1941</td>\n",
              "      <td>A Woman's Face</td>\n",
              "      <td>in sweden ,  a female blackmailer with a disfi...</td>\n",
              "      <td>['Drama', 'Film-Noir', 'Thriller']</td>\n",
              "      <td>7.2</td>\n",
              "      <td>'Drama', 'Film-Noir', 'Thriller'</td>\n",
              "      <td>3.0</td>\n",
              "      <td>141.0</td>\n",
              "      <td>3.0</td>\n",
              "      <td>0.005000</td>\n",
              "      <td>61</td>\n",
              "      <td>155</td>\n",
              "      <td>0.393548</td>\n",
              "      <td>583</td>\n",
              "      <td>4.134752</td>\n",
              "      <td>17</td>\n",
              "      <td>0</td>\n",
              "    </tr>\n",
              "    <tr>\n",
              "      <th>3</th>\n",
              "      <td>1954</td>\n",
              "      <td>Executive Suite</td>\n",
              "      <td>in a friday afternoon in new york ,  the presi...</td>\n",
              "      <td>['Drama']</td>\n",
              "      <td>7.4</td>\n",
              "      <td>'Drama'</td>\n",
              "      <td>1.0</td>\n",
              "      <td>382.0</td>\n",
              "      <td>2.0</td>\n",
              "      <td>0.047245</td>\n",
              "      <td>162</td>\n",
              "      <td>414</td>\n",
              "      <td>0.391304</td>\n",
              "      <td>1654</td>\n",
              "      <td>4.329843</td>\n",
              "      <td>34</td>\n",
              "      <td>0</td>\n",
              "    </tr>\n",
              "    <tr>\n",
              "      <th>4</th>\n",
              "      <td>1990</td>\n",
              "      <td>Narrow Margin</td>\n",
              "      <td>in los angeles ,  the editor of a publishing h...</td>\n",
              "      <td>['Action', 'Crime', 'Thriller']</td>\n",
              "      <td>6.6</td>\n",
              "      <td>'Action', 'Crime', 'Thriller'</td>\n",
              "      <td>3.0</td>\n",
              "      <td>193.0</td>\n",
              "      <td>2.0</td>\n",
              "      <td>-0.066667</td>\n",
              "      <td>86</td>\n",
              "      <td>203</td>\n",
              "      <td>0.423645</td>\n",
              "      <td>825</td>\n",
              "      <td>4.274611</td>\n",
              "      <td>14</td>\n",
              "      <td>0</td>\n",
              "    </tr>\n",
              "  </tbody>\n",
              "</table>\n",
              "</div>"
            ],
            "text/plain": [
              "   year                      title  \\\n",
              "0  2003                       Most   \n",
              "1  2008  How to Be a Serial Killer   \n",
              "2  1941             A Woman's Face   \n",
              "3  1954            Executive Suite   \n",
              "4  1990              Narrow Margin   \n",
              "\n",
              "                                                plot  \\\n",
              "0  most is the story of a single father who takes...   \n",
              "1  a serial killer decides to teach the secrets o...   \n",
              "2  in sweden ,  a female blackmailer with a disfi...   \n",
              "3  in a friday afternoon in new york ,  the presi...   \n",
              "4  in los angeles ,  the editor of a publishing h...   \n",
              "\n",
              "                               genres  rating  \\\n",
              "0                  ['Short', 'Drama']     8.0   \n",
              "1       ['Comedy', 'Crime', 'Horror']     5.6   \n",
              "2  ['Drama', 'Film-Noir', 'Thriller']     7.2   \n",
              "3                           ['Drama']     7.4   \n",
              "4     ['Action', 'Crime', 'Thriller']     6.6   \n",
              "\n",
              "                         genres_str  q_genres  words  title_words  sentiment  \\\n",
              "0                  'Short', 'Drama'       2.0  254.0          1.0  -0.017817   \n",
              "1       'Comedy', 'Crime', 'Horror'       3.0   18.0          6.0   0.500000   \n",
              "2  'Drama', 'Film-Noir', 'Thriller'       3.0  141.0          3.0   0.005000   \n",
              "3                           'Drama'       1.0  382.0          2.0   0.047245   \n",
              "4     'Action', 'Crime', 'Thriller'       3.0  193.0          2.0  -0.066667   \n",
              "\n",
              "   stopwords  word_count  perc_stopwords  plot_length  word_avg_length  \\\n",
              "0        107         283        0.378092          954         3.755906   \n",
              "1          7          18        0.388889           77         4.277778   \n",
              "2         61         155        0.393548          583         4.134752   \n",
              "3        162         414        0.391304         1654         4.329843   \n",
              "4         86         203        0.423645          825         4.274611   \n",
              "\n",
              "   punctuation  digits  \n",
              "0           32       0  \n",
              "1            1       0  \n",
              "2           17       0  \n",
              "3           34       0  \n",
              "4           14       0  "
            ]
          },
          "metadata": {
            "tags": []
          },
          "execution_count": 33
        }
      ]
    },
    {
      "metadata": {
        "id": "csAiFlFD5pL3",
        "colab_type": "text"
      },
      "cell_type": "markdown",
      "source": [
        "### 4.2 Sobre Testing"
      ]
    },
    {
      "metadata": {
        "id": "89yTENbAyPgq",
        "colab_type": "code",
        "outputId": "6ce6e181-0e6e-4a4c-a2ed-9c09952f9fb8",
        "colab": {
          "base_uri": "https://localhost:8080/",
          "height": 255
        }
      },
      "cell_type": "code",
      "source": [
        "for i in dataTesting.index:\n",
        "    dataTesting.loc[i,'words']=len(dataTesting.loc[i,'plot'].split())\n",
        "    dataTesting.loc[i,'title_words']=len(dataTesting.loc[i,'title'].split())\n",
        "    \n",
        "dataTesting['sentiment'] = dataTesting['plot'].astype(str).apply(lambda tweet: TextBlob(tweet).sentiment.polarity)\n",
        "\n",
        "import nltk\n",
        "#nltk.download('stopwords')\n",
        "\n",
        "#from nltk.corpus import stopwords\n",
        "stop = stopwords.words('english') \n",
        "dataTesting['stopwords'] = dataTesting['plot'].apply(lambda x: len([x for x in x.split() if x in stop]))\n",
        "\n",
        "dataTesting['word_count'] = dataTesting['plot'].apply(lambda x: len(str(x).split(\" \")))\n",
        "\n",
        "dataTesting['perc_stopwords']=dataTesting['stopwords']/dataTesting['word_count']\n",
        "\n",
        "#Longitud del plot en caracteres\n",
        "dataTesting['plot_length'] = dataTesting['plot'].astype(str).apply(lambda word: sum(len(word) for word in word.split()))\n",
        "\n",
        "#Longitud promedio de las palabras del plot\n",
        "dataTesting['word_avg_length'] =dataTesting['plot_length']/dataTesting['words'] \n",
        "\n",
        "#Número de  signos de puntuación por \n",
        "count = lambda l1,l2: sum([1 for x in l1 if x in l2])\n",
        "dataTesting['punctuation'] = dataTesting['plot'].astype(str).apply(lambda s: count(s,set(string.punctuation)))\n",
        "\n",
        "#conteo de digitos\n",
        "dataTesting['digits'] = dataTesting['plot'].astype(str).apply(lambda s: count(s,set(string.digits)))\n",
        "\n",
        "\n",
        "\n",
        "print(dataTesting.shape)\n",
        "dataTesting.head()"
      ],
      "execution_count": 0,
      "outputs": [
        {
          "output_type": "stream",
          "text": [
            "(3383, 13)\n"
          ],
          "name": "stdout"
        },
        {
          "output_type": "execute_result",
          "data": {
            "text/html": [
              "<div>\n",
              "<style scoped>\n",
              "    .dataframe tbody tr th:only-of-type {\n",
              "        vertical-align: middle;\n",
              "    }\n",
              "\n",
              "    .dataframe tbody tr th {\n",
              "        vertical-align: top;\n",
              "    }\n",
              "\n",
              "    .dataframe thead th {\n",
              "        text-align: right;\n",
              "    }\n",
              "</style>\n",
              "<table border=\"1\" class=\"dataframe\">\n",
              "  <thead>\n",
              "    <tr style=\"text-align: right;\">\n",
              "      <th></th>\n",
              "      <th>year</th>\n",
              "      <th>title</th>\n",
              "      <th>plot</th>\n",
              "      <th>words</th>\n",
              "      <th>title_words</th>\n",
              "      <th>sentiment</th>\n",
              "      <th>stopwords</th>\n",
              "      <th>word_count</th>\n",
              "      <th>perc_stopwords</th>\n",
              "      <th>plot_length</th>\n",
              "      <th>word_avg_length</th>\n",
              "      <th>punctuation</th>\n",
              "      <th>digits</th>\n",
              "    </tr>\n",
              "  </thead>\n",
              "  <tbody>\n",
              "    <tr>\n",
              "      <th>1</th>\n",
              "      <td>1999</td>\n",
              "      <td>Message in a Bottle</td>\n",
              "      <td>who meets by fate ,  shall be sealed by fate ....</td>\n",
              "      <td>99.0</td>\n",
              "      <td>4.0</td>\n",
              "      <td>-0.038889</td>\n",
              "      <td>42</td>\n",
              "      <td>107</td>\n",
              "      <td>0.392523</td>\n",
              "      <td>361</td>\n",
              "      <td>3.646465</td>\n",
              "      <td>11</td>\n",
              "      <td>0</td>\n",
              "    </tr>\n",
              "    <tr>\n",
              "      <th>4</th>\n",
              "      <td>1978</td>\n",
              "      <td>Midnight Express</td>\n",
              "      <td>the true story of billy hayes ,  an american c...</td>\n",
              "      <td>24.0</td>\n",
              "      <td>2.0</td>\n",
              "      <td>0.175000</td>\n",
              "      <td>9</td>\n",
              "      <td>25</td>\n",
              "      <td>0.360000</td>\n",
              "      <td>105</td>\n",
              "      <td>4.375000</td>\n",
              "      <td>2</td>\n",
              "      <td>0</td>\n",
              "    </tr>\n",
              "    <tr>\n",
              "      <th>5</th>\n",
              "      <td>1996</td>\n",
              "      <td>Primal Fear</td>\n",
              "      <td>martin vail left the chicago da ' s office to ...</td>\n",
              "      <td>401.0</td>\n",
              "      <td>2.0</td>\n",
              "      <td>0.039571</td>\n",
              "      <td>171</td>\n",
              "      <td>441</td>\n",
              "      <td>0.387755</td>\n",
              "      <td>1598</td>\n",
              "      <td>3.985037</td>\n",
              "      <td>48</td>\n",
              "      <td>0</td>\n",
              "    </tr>\n",
              "    <tr>\n",
              "      <th>6</th>\n",
              "      <td>1950</td>\n",
              "      <td>Crisis</td>\n",
              "      <td>husband and wife americans dr .  eugene and mr...</td>\n",
              "      <td>212.0</td>\n",
              "      <td>1.0</td>\n",
              "      <td>-0.019822</td>\n",
              "      <td>94</td>\n",
              "      <td>234</td>\n",
              "      <td>0.401709</td>\n",
              "      <td>896</td>\n",
              "      <td>4.226415</td>\n",
              "      <td>22</td>\n",
              "      <td>0</td>\n",
              "    </tr>\n",
              "    <tr>\n",
              "      <th>7</th>\n",
              "      <td>1959</td>\n",
              "      <td>The Tingler</td>\n",
              "      <td>the coroner and scientist dr .  warren chapin ...</td>\n",
              "      <td>208.0</td>\n",
              "      <td>2.0</td>\n",
              "      <td>-0.146667</td>\n",
              "      <td>79</td>\n",
              "      <td>234</td>\n",
              "      <td>0.337607</td>\n",
              "      <td>850</td>\n",
              "      <td>4.086538</td>\n",
              "      <td>29</td>\n",
              "      <td>0</td>\n",
              "    </tr>\n",
              "  </tbody>\n",
              "</table>\n",
              "</div>"
            ],
            "text/plain": [
              "   year                title  \\\n",
              "1  1999  Message in a Bottle   \n",
              "4  1978     Midnight Express   \n",
              "5  1996          Primal Fear   \n",
              "6  1950               Crisis   \n",
              "7  1959          The Tingler   \n",
              "\n",
              "                                                plot  words  title_words  \\\n",
              "1  who meets by fate ,  shall be sealed by fate ....   99.0          4.0   \n",
              "4  the true story of billy hayes ,  an american c...   24.0          2.0   \n",
              "5  martin vail left the chicago da ' s office to ...  401.0          2.0   \n",
              "6  husband and wife americans dr .  eugene and mr...  212.0          1.0   \n",
              "7  the coroner and scientist dr .  warren chapin ...  208.0          2.0   \n",
              "\n",
              "   sentiment  stopwords  word_count  perc_stopwords  plot_length  \\\n",
              "1  -0.038889         42         107        0.392523          361   \n",
              "4   0.175000          9          25        0.360000          105   \n",
              "5   0.039571        171         441        0.387755         1598   \n",
              "6  -0.019822         94         234        0.401709          896   \n",
              "7  -0.146667         79         234        0.337607          850   \n",
              "\n",
              "   word_avg_length  punctuation  digits  \n",
              "1         3.646465           11       0  \n",
              "4         4.375000            2       0  \n",
              "5         3.985037           48       0  \n",
              "6         4.226415           22       0  \n",
              "7         4.086538           29       0  "
            ]
          },
          "metadata": {
            "tags": []
          },
          "execution_count": 34
        }
      ]
    },
    {
      "metadata": {
        "id": "0yn6TTOb_EW-",
        "colab_type": "text"
      },
      "cell_type": "markdown",
      "source": [
        "## 5 Vectorizer"
      ]
    },
    {
      "metadata": {
        "id": "rKELMg81tT0t",
        "colab_type": "text"
      },
      "cell_type": "markdown",
      "source": [
        "### 5.1 stems, lemmas, etc"
      ]
    },
    {
      "metadata": {
        "id": "ZtSb_vrW87HV",
        "colab_type": "code",
        "colab": {}
      },
      "cell_type": "code",
      "source": [
        "#PORTER STEMMER\n",
        "def stemmer(X):\n",
        "  porter=PorterStemmer()\n",
        "  #lancaster=LancasterStemmer()\n",
        "\n",
        "  #tokenize\n",
        "  X=X.apply(nltk.word_tokenize)\n",
        "\n",
        "  #stemming\n",
        "  X=X.apply(lambda x: [porter.stem(y) for y in x])\n",
        "\n",
        "  for i in dataTraining.index:\n",
        "      list1=X.loc[i]\n",
        "      X.loc[i]=' '.join(list1)\n",
        "\n",
        "  return X\n",
        "\n",
        "#PORTER STEMMER\n",
        "def stemmerT(X):\n",
        "  porter=PorterStemmer()\n",
        "  #lancaster=LancasterStemmer()\n",
        "\n",
        "  #tokenize\n",
        "  X=X.apply(nltk.word_tokenize)\n",
        "\n",
        "  #stemming\n",
        "  X=X.apply(lambda x: [porter.stem(y) for y in x])\n",
        "\n",
        "  for i in dataTesting.index:\n",
        "      list1=X.loc[i]\n",
        "      X.loc[i]=' '.join(list1)\n",
        "\n",
        "  return X"
      ],
      "execution_count": 0,
      "outputs": []
    },
    {
      "metadata": {
        "id": "UALVL5H0czC6",
        "colab_type": "code",
        "colab": {}
      },
      "cell_type": "code",
      "source": [
        "# LEMMATIZATION\n",
        "def lemmer(X):\n",
        "  #w_tokenizer=nltk.tokenize.WhitespaceTokenizer()\n",
        "  lemmatizer=nltk.stem.WordNetLemmatizer()\n",
        "\n",
        "  X=X.apply(nltk.word_tokenize)\n",
        "\n",
        "  X=X.apply(lambda x: [lemmatizer.lemmatize(w) for w in x])\n",
        "\n",
        "  for i in dataTraining.index:\n",
        "      list1=X.loc[i]\n",
        "      X.loc[i]=' '.join(list1)\n",
        "\n",
        "  return X\n",
        "\n",
        "def lemmerT(X):\n",
        "  #w_tokenizer=nltk.tokenize.WhitespaceTokenizer()\n",
        "  lemmatizer=nltk.stem.WordNetLemmatizer()\n",
        "\n",
        "  X=X.apply(nltk.word_tokenize)\n",
        "\n",
        "  X=X.apply(lambda x: [lemmatizer.lemmatize(w) for w in x])\n",
        "\n",
        "  for i in dataTesting.index:\n",
        "      list1=X.loc[i]\n",
        "      X.loc[i]=' '.join(list1)\n",
        "\n",
        "  return X"
      ],
      "execution_count": 0,
      "outputs": []
    },
    {
      "metadata": {
        "id": "bhFzB7zk64AT",
        "colab_type": "text"
      },
      "cell_type": "markdown",
      "source": [
        "### 5.2 Definir matriz de palabras a vectorizar"
      ]
    },
    {
      "metadata": {
        "id": "gZs8nqaM6u4r",
        "colab_type": "code",
        "outputId": "28497cc6-2693-42dd-8261-c4ffa0290108",
        "colab": {
          "base_uri": "https://localhost:8080/",
          "height": 119
        }
      },
      "cell_type": "code",
      "source": [
        "X = (dataTraining['title']+\" \")+dataTraining['plot']\n",
        "X.head()"
      ],
      "execution_count": 0,
      "outputs": [
        {
          "output_type": "execute_result",
          "data": {
            "text/plain": [
              "0    Most most is the story of a single father who ...\n",
              "1    How to Be a Serial Killer a serial killer deci...\n",
              "2    A Woman's Face in sweden ,  a female blackmail...\n",
              "3    Executive Suite in a friday afternoon in new y...\n",
              "4    Narrow Margin in los angeles ,  the editor of ...\n",
              "dtype: object"
            ]
          },
          "metadata": {
            "tags": []
          },
          "execution_count": 14
        }
      ]
    },
    {
      "metadata": {
        "id": "jb8vVQW8cgJ6",
        "colab_type": "text"
      },
      "cell_type": "markdown",
      "source": [
        "### 5.3 create vectorizers"
      ]
    },
    {
      "metadata": {
        "id": "WhnfD62L7BUH",
        "colab_type": "text"
      },
      "cell_type": "markdown",
      "source": [
        "#### 5.3.1 Vectorizador del plot"
      ]
    },
    {
      "metadata": {
        "id": "jIprlWu__Fhu",
        "colab_type": "code",
        "colab": {}
      },
      "cell_type": "code",
      "source": [
        "X=lemmer(stemmer(X))"
      ],
      "execution_count": 0,
      "outputs": []
    },
    {
      "metadata": {
        "id": "LNelMNdvtT0u",
        "colab_type": "code",
        "outputId": "633d6a22-7ca5-4a69-9a35-d08aab509af3",
        "colab": {
          "base_uri": "https://localhost:8080/",
          "height": 68
        }
      },
      "cell_type": "code",
      "source": [
        "vect = CountVectorizer(lowercase=False,ngram_range=(1, 2),max_features=8000, stop_words='english')\n",
        "\n",
        "X_dtm = vect.fit_transform(X)\n",
        "print(X_dtm.shape)\n",
        "X_dtm"
      ],
      "execution_count": 0,
      "outputs": [
        {
          "output_type": "stream",
          "text": [
            "(7902, 8000)\n"
          ],
          "name": "stdout"
        },
        {
          "output_type": "execute_result",
          "data": {
            "text/plain": [
              "<7902x8000 sparse matrix of type '<class 'numpy.int64'>'\n",
              "\twith 430674 stored elements in Compressed Sparse Row format>"
            ]
          },
          "metadata": {
            "tags": []
          },
          "execution_count": 16
        }
      ]
    },
    {
      "metadata": {
        "id": "ahc9b_3nYOPW",
        "colab_type": "code",
        "outputId": "3b06ecbb-2336-47a0-f869-c96d843baa79",
        "colab": {
          "base_uri": "https://localhost:8080/",
          "height": 119
        }
      },
      "cell_type": "code",
      "source": [
        "vect"
      ],
      "execution_count": 0,
      "outputs": [
        {
          "output_type": "execute_result",
          "data": {
            "text/plain": [
              "CountVectorizer(analyzer='word', binary=False, decode_error='strict',\n",
              "        dtype=<class 'numpy.int64'>, encoding='utf-8', input='content',\n",
              "        lowercase=False, max_df=1.0, max_features=8000, min_df=1,\n",
              "        ngram_range=(1, 2), preprocessor=None, stop_words='english',\n",
              "        strip_accents=None, token_pattern='(?u)\\\\b\\\\w\\\\w+\\\\b',\n",
              "        tokenizer=None, vocabulary=None)"
            ]
          },
          "metadata": {
            "tags": []
          },
          "execution_count": 17
        }
      ]
    },
    {
      "metadata": {
        "id": "jm2Wh83r7FKB",
        "colab_type": "text"
      },
      "cell_type": "markdown",
      "source": [
        "#### 5.3.2 Vectorizador del Title"
      ]
    },
    {
      "metadata": {
        "id": "WluK3JQX_SK0",
        "colab_type": "code",
        "colab": {}
      },
      "cell_type": "code",
      "source": [
        "Title=dataTraining['title']\n",
        "Title=lemmer(stemmer(Title))"
      ],
      "execution_count": 0,
      "outputs": []
    },
    {
      "metadata": {
        "id": "YKqNhF2pYHuW",
        "colab_type": "code",
        "outputId": "31efeef2-0edb-4a61-fdcb-2be9976be13e",
        "colab": {
          "base_uri": "https://localhost:8080/",
          "height": 68
        }
      },
      "cell_type": "code",
      "source": [
        "vectTitle = CountVectorizer(max_features=2000, stop_words='english')\n",
        "#vectTitle = TfidfVectorizer(max_features=4000)\n",
        "\n",
        "X_dtm_T = vectTitle.fit_transform(Title)\n",
        "print(X_dtm_T.shape)\n",
        "X_dtm_T"
      ],
      "execution_count": 0,
      "outputs": [
        {
          "output_type": "stream",
          "text": [
            "(7902, 2000)\n"
          ],
          "name": "stdout"
        },
        {
          "output_type": "execute_result",
          "data": {
            "text/plain": [
              "<7902x2000 sparse matrix of type '<class 'numpy.int64'>'\n",
              "\twith 11390 stored elements in Compressed Sparse Row format>"
            ]
          },
          "metadata": {
            "tags": []
          },
          "execution_count": 19
        }
      ]
    },
    {
      "metadata": {
        "id": "1BNXOleltT00",
        "colab_type": "text"
      },
      "cell_type": "markdown",
      "source": [
        "#### 5.3.3 revision palabras de vectores (por hacer):\n",
        "- quitar numeros?\n",
        "- dejar raices? ej: (action, actions), (activities, activity); etc...\n",
        "- probar con 64 reps de titulo"
      ]
    },
    {
      "metadata": {
        "id": "a_TAaooZZBig",
        "colab_type": "code",
        "outputId": "267ffc2f-fe5b-42ef-9ade-9025a9837b53",
        "colab": {
          "base_uri": "https://localhost:8080/",
          "height": 54
        }
      },
      "cell_type": "code",
      "source": [
        "print(vect.get_feature_names()[:100])"
      ],
      "execution_count": 0,
      "outputs": [
        {
          "output_type": "stream",
          "text": [
            "['10', '13', '3D', 'An', 'At', 'Be', 'Do', 'Go', 'II', 'In', 'Is', 'It', 'Me', 'My', 'No', 'On', 'To', 'Up', 'We', 'aaron', 'abandon', 'abandon hi', 'abbey', 'abbi', 'abbott', 'abduct', 'abe', 'abigail', 'abil', 'abl', 'abl convinc', 'abl escap', 'abner', 'aboard', 'abort', 'abound', 'abov', 'abraham', 'abraham lincoln', 'abroad', 'abruptli', 'absenc', 'absent', 'absolut', 'absorb', 'abus', 'abyss', 'academ', 'academi', 'academi award', 'accept', 'accept invit', 'accept job', 'accept offer', 'access', 'accid', 'accident', 'accident kill', 'acclaim', 'accompani', 'accompani hi', 'accomplic', 'accomplish', 'accord', 'account', 'accur', 'accus', 'accus murder', 'ace', 'achiev', 'achiev goal', 'achiev hi', 'acknowledg', 'acquaint', 'acquir', 'acr', 'act', 'act hi', 'act like', 'action', 'activ', 'activist', 'actor', 'actress', 'actual', 'ad', 'adam', 'adapt', 'add', 'addi', 'addict', 'addit', 'address', 'adel', 'adjust', 'administr', 'admir', 'admit', 'adolesc', 'adopt']\n"
          ],
          "name": "stdout"
        }
      ]
    },
    {
      "metadata": {
        "id": "MlA1y7xWtT00",
        "colab_type": "code",
        "outputId": "5f0e93ed-df0d-4546-ae44-8c1a6ba1d69b",
        "colab": {
          "base_uri": "https://localhost:8080/",
          "height": 54
        }
      },
      "cell_type": "code",
      "source": [
        "print(vectTitle.get_feature_names()[:100])"
      ],
      "execution_count": 0,
      "outputs": [
        {
          "output_type": "stream",
          "text": [
            "['000', '10', '100', '11', '1138', '12', '13', '1303', '13th', '17', '18', '20', '2000', '21', '22', '28', '29', '30', '3d', '40', '50', '7th', '80', 'abbott', 'abomin', 'abov', 'abraham', 'absolut', 'abyss', 'academi', 'accid', 'accident', 'ace', 'acr', 'act', 'action', 'activ', 'actual', 'adam', 'addict', 'adult', 'adventur', 'affair', 'africa', 'african', 'afternoon', 'age', 'agent', 'ai', 'air', 'airborn', 'airplan', 'airport', 'al', 'alabama', 'alamo', 'alaska', 'albert', 'alex', 'alexand', 'algier', 'ali', 'alic', 'alien', 'aliv', 'alley', 'allig', 'allow', 'almighti', 'alon', 'alter', 'alway', 'amaz', 'america', 'american', 'amigo', 'amityvil', 'anaconda', 'anatomi', 'anchorman', 'angel', 'angri', 'angu', 'ani', 'anim', 'anna', 'annabel', 'anni', 'anonym', 'anoth', 'ant', 'anyth', 'apach', 'apart', 'ape', 'apocalyps', 'apollo', 'appl', 'appli', 'arizona']\n"
          ],
          "name": "stdout"
        }
      ]
    },
    {
      "metadata": {
        "id": "H5xMrOHKtT04",
        "colab_type": "text"
      },
      "cell_type": "markdown",
      "source": [
        "### 5.4 Create sparse matrix with vector and with numeric features"
      ]
    },
    {
      "metadata": {
        "id": "0GpnTKiQtT05",
        "colab_type": "code",
        "outputId": "d8bb40ef-1c2e-419c-fa9d-0b3b3a69499c",
        "colab": {
          "base_uri": "https://localhost:8080/",
          "height": 68
        }
      },
      "cell_type": "code",
      "source": [
        "features = dataTraining[['year','words','title_words','sentiment','stopwords','perc_stopwords','plot_length','word_avg_length','punctuation']].to_sparse()\n",
        "featuresTest = dataTesting[['year','words','title_words','sentiment','stopwords','perc_stopwords','plot_length','word_avg_length','punctuation']].to_sparse()\n",
        "\n",
        "from scipy.sparse import hstack\n",
        "X_sparse=hstack((X_dtm,X_dtm_T, features.astype(float)))\n",
        "print(X_sparse.shape)\n",
        "X_sparse"
      ],
      "execution_count": 0,
      "outputs": [
        {
          "output_type": "stream",
          "text": [
            "(7902, 10009)\n"
          ],
          "name": "stdout"
        },
        {
          "output_type": "execute_result",
          "data": {
            "text/plain": [
              "<7902x10009 sparse matrix of type '<class 'numpy.float64'>'\n",
              "\twith 512912 stored elements in COOrdinate format>"
            ]
          },
          "metadata": {
            "tags": []
          },
          "execution_count": 44
        }
      ]
    },
    {
      "metadata": {
        "id": "gtuk_tF5-h7a",
        "colab_type": "text"
      },
      "cell_type": "markdown",
      "source": [
        "### 5.5 Parametros optimos de los vectorizadores con cross validation"
      ]
    },
    {
      "metadata": {
        "id": "9TxUYxxN_EKA",
        "colab_type": "text"
      },
      "cell_type": "markdown",
      "source": [
        "#### 5.5.1 ngrams (1,n) optimo"
      ]
    },
    {
      "metadata": {
        "id": "UZal-oRsNOM3",
        "colab_type": "code",
        "outputId": "d736dc4f-0623-4292-a328-6bef4e7a2a55",
        "colab": {
          "base_uri": "https://localhost:8080/",
          "height": 406
        }
      },
      "cell_type": "code",
      "source": [
        "range_ene=[2,3,4,5,6]\n",
        "accuracy_scores=[]\n",
        "\n",
        "for ene in range_ene:\n",
        "  \n",
        "  vect = CountVectorizer(lowercase=False,ngram_range=(1, ene),max_features=8000, stop_words='english')\n",
        "  X_dtm = vect.fit_transform(X)\n",
        "  from scipy.sparse import hstack\n",
        "  X_sparse=hstack((X_dtm,X_dtm_T, features))\n",
        "  metric=cross_val_score(clf, X_sparse, y_genres, cv=3, scoring='roc_auc').mean()\n",
        "  accuracy_scores.append(metric)\n",
        "  print(ene,metric)\n",
        "  \n",
        "plt.plot(range_ene, accuracy_scores)\n",
        "plt.xlabel('ene')\n",
        "plt.ylabel('metric')"
      ],
      "execution_count": 0,
      "outputs": [
        {
          "output_type": "stream",
          "text": [
            "2 0.8742991784515408\n",
            "3 0.8727041299815345\n",
            "4 0.8742729726558949\n",
            "5 0.8725149846774637\n",
            "6 0.8736090198317136\n"
          ],
          "name": "stdout"
        },
        {
          "output_type": "execute_result",
          "data": {
            "text/plain": [
              "Text(0, 0.5, 'metric')"
            ]
          },
          "metadata": {
            "tags": []
          },
          "execution_count": 100
        },
        {
          "output_type": "display_data",
          "data": {
            "image/png": "[encoded data removed]",
            "text/plain": [
              "<Figure size 432x288 with 1 Axes>"
            ]
          },
          "metadata": {
            "tags": []
          }
        }
      ]
    },
    {
      "metadata": {
        "id": "t7R1aQ4z_Pl-",
        "colab_type": "text"
      },
      "cell_type": "markdown",
      "source": [
        "Se seleccionara ngrams(1,2) para el plot"
      ]
    },
    {
      "metadata": {
        "id": "6olMQkyS_UfF",
        "colab_type": "text"
      },
      "cell_type": "markdown",
      "source": [
        "#### 5.5.2 min_df optimo:"
      ]
    },
    {
      "metadata": {
        "id": "mF_Sr0QwSWl9",
        "colab_type": "code",
        "outputId": "ad11e375-1cff-4af5-a7bf-921e1a0383e3",
        "colab": {
          "base_uri": "https://localhost:8080/",
          "height": 409
        }
      },
      "cell_type": "code",
      "source": [
        "range_min_df=[2,3,4,5,6]\n",
        "accuracy_scores=[]\n",
        "\n",
        "for df in range_min_df:\n",
        "  \n",
        "  vect = CountVectorizer(lowercase=False,min_df=df,ngram_range=(1, 2),max_features=8000, stop_words='english')\n",
        "  X_dtm = vect.fit_transform(X)\n",
        "  from scipy.sparse import hstack\n",
        "  X_sparse=hstack((X_dtm,X_dtm_T, features))\n",
        "  metric=cross_val_score(clf, X_sparse, y_genres, cv=3, scoring='roc_auc').mean()\n",
        "  accuracy_scores.append(metric)\n",
        "  print(df,metric)\n",
        "  \n",
        "plt.plot(range_min_df, accuracy_scores)\n",
        "plt.xlabel('df')\n",
        "plt.ylabel('metric')"
      ],
      "execution_count": 0,
      "outputs": [
        {
          "output_type": "stream",
          "text": [
            "2 0.8722349293042696\n",
            "3 0.8731238226607171\n",
            "4 0.8720413460358242\n",
            "5 0.872830253074025\n",
            "6 0.8739289229477105\n"
          ],
          "name": "stdout"
        },
        {
          "output_type": "execute_result",
          "data": {
            "text/plain": [
              "Text(0, 0.5, 'metric')"
            ]
          },
          "metadata": {
            "tags": []
          },
          "execution_count": 104
        },
        {
          "output_type": "display_data",
          "data": {
            "image/png": "[encoded data removed]",
            "text/plain": [
              "<Figure size 432x288 with 1 Axes>"
            ]
          },
          "metadata": {
            "tags": []
          }
        }
      ]
    },
    {
      "metadata": {
        "id": "KAORgE3Q_bFx",
        "colab_type": "text"
      },
      "cell_type": "markdown",
      "source": [
        "Da mejores resultados con el min_df estandar: min_df=1,   parametros mayores a 6 pueden dar problema con las categorias que tienen pocos registros.\n",
        "\n",
        "Se selecciona min_df=1"
      ]
    },
    {
      "metadata": {
        "id": "yl03bOBxtT0_",
        "colab_type": "text"
      },
      "cell_type": "markdown",
      "source": [
        "## 6 Create y"
      ]
    },
    {
      "metadata": {
        "id": "guxWAi6w_2CA",
        "colab_type": "code",
        "outputId": "c493e5bb-b878-4f00-9e61-7c7c6c6da01f",
        "colab": {
          "base_uri": "https://localhost:8080/",
          "height": 119
        }
      },
      "cell_type": "code",
      "source": [
        "dataTraining['genres'].head()"
      ],
      "execution_count": 0,
      "outputs": [
        {
          "output_type": "execute_result",
          "data": {
            "text/plain": [
              "0                    ['Short', 'Drama']\n",
              "1         ['Comedy', 'Crime', 'Horror']\n",
              "2    ['Drama', 'Film-Noir', 'Thriller']\n",
              "3                             ['Drama']\n",
              "4       ['Action', 'Crime', 'Thriller']\n",
              "Name: genres, dtype: object"
            ]
          },
          "metadata": {
            "tags": []
          },
          "execution_count": 47
        }
      ]
    },
    {
      "metadata": {
        "id": "84x1JdgCtT1B",
        "colab_type": "code",
        "colab": {}
      },
      "cell_type": "code",
      "source": [
        "dataTraining['genres'] = dataTraining['genres'].map(lambda x: eval(x))\n",
        "\n",
        "le = MultiLabelBinarizer()\n",
        "#del y_genres\n",
        "y_genres = le.fit_transform(dataTraining['genres'])"
      ],
      "execution_count": 0,
      "outputs": []
    },
    {
      "metadata": {
        "id": "hlkF0riftT1D",
        "colab_type": "code",
        "outputId": "2c374d0b-3810-4403-a7b6-6d775dd110f4",
        "colab": {
          "base_uri": "https://localhost:8080/",
          "height": 119
        }
      },
      "cell_type": "code",
      "source": [
        "dataTraining['genres'].head()"
      ],
      "execution_count": 0,
      "outputs": [
        {
          "output_type": "execute_result",
          "data": {
            "text/plain": [
              "0                  [Short, Drama]\n",
              "1         [Comedy, Crime, Horror]\n",
              "2    [Drama, Film-Noir, Thriller]\n",
              "3                         [Drama]\n",
              "4       [Action, Crime, Thriller]\n",
              "Name: genres, dtype: object"
            ]
          },
          "metadata": {
            "tags": []
          },
          "execution_count": 49
        }
      ]
    },
    {
      "metadata": {
        "id": "tX8SpKDrtT1G",
        "colab_type": "code",
        "outputId": "e3a964d7-8173-444c-e527-9632efdfba1a",
        "colab": {
          "base_uri": "https://localhost:8080/",
          "height": 153
        }
      },
      "cell_type": "code",
      "source": [
        "print(y_genres.shape)\n",
        "y_genres"
      ],
      "execution_count": 0,
      "outputs": [
        {
          "output_type": "stream",
          "text": [
            "(7902, 24)\n"
          ],
          "name": "stdout"
        },
        {
          "output_type": "execute_result",
          "data": {
            "text/plain": [
              "array([[0, 0, 0, ..., 0, 0, 0],\n",
              "       [0, 0, 0, ..., 0, 0, 0],\n",
              "       [0, 0, 0, ..., 1, 0, 0],\n",
              "       ...,\n",
              "       [0, 0, 0, ..., 0, 0, 0],\n",
              "       [0, 0, 0, ..., 0, 0, 0],\n",
              "       [0, 0, 0, ..., 1, 0, 0]])"
            ]
          },
          "metadata": {
            "tags": []
          },
          "execution_count": 50
        }
      ]
    },
    {
      "metadata": {
        "id": "qrn0vOlIAIYc",
        "colab_type": "text"
      },
      "cell_type": "markdown",
      "source": [
        "## 7 Train/Test Spliting"
      ]
    },
    {
      "metadata": {
        "id": "QK8P3YYNtT1I",
        "colab_type": "code",
        "colab": {}
      },
      "cell_type": "code",
      "source": [
        "X_train, X_test, y_train_genres, y_test_genres = train_test_split(X_sparse, y_genres, test_size=0.3, random_state=4200)"
      ],
      "execution_count": 0,
      "outputs": []
    },
    {
      "metadata": {
        "id": "b9kp45pstT1K",
        "colab_type": "text"
      },
      "cell_type": "markdown",
      "source": [
        "## 8 Random Forest Tuning  "
      ]
    },
    {
      "metadata": {
        "id": "9PVZwWGDAh9F",
        "colab_type": "text"
      },
      "cell_type": "markdown",
      "source": [
        "### 8.1 Tuning Max-Depth"
      ]
    },
    {
      "metadata": {
        "id": "uWbQhV1ptT1K",
        "colab_type": "code",
        "outputId": "f34c25d0-023e-42fb-ecb6-fa883e0e2eee",
        "colab": {
          "base_uri": "https://localhost:8080/",
          "height": 797
        }
      },
      "cell_type": "code",
      "source": [
        "# list of values to try for max_depth\n",
        "max_depth_range = list(range(1, 16+1))+list(range(17,40,2))\n",
        "\n",
        "# list to store the average RMSE for each value of max_depth\n",
        "accuracy_scores = []\n",
        "\n",
        "# use 10-fold cross-validation with each value of max_depth\n",
        "from sklearn.model_selection import cross_val_score\n",
        "\n",
        "for depth in max_depth_range:\n",
        "    clf = OneVsRestClassifier(RandomForestClassifier(class_weight='balanced',n_jobs=-1, n_estimators=21, max_depth=depth, random_state=42))\n",
        "    metric=cross_val_score(clf, X_sparse, y_genres, cv=3, scoring='roc_auc').mean()\n",
        "    accuracy_scores.append(metric)\n",
        "    print(depth,metric)\n",
        "    \n",
        "plt.plot(max_depth_range, accuracy_scores)\n",
        "plt.xlabel('max_depth')\n",
        "plt.ylabel('metric')\n",
        "# show the best accuracy and the corresponding max_depth\n",
        "print(sorted(zip(accuracy_scores, max_depth_range))[::-1][0])"
      ],
      "execution_count": 0,
      "outputs": [
        {
          "output_type": "stream",
          "text": [
            "1 0.6994675865229265\n",
            "2 0.7461608403575418\n",
            "3 0.7707718213494507\n",
            "4 0.7800738155850616\n",
            "5 0.7875983501615954\n",
            "6 0.7920233483678504\n",
            "7 0.7927788239931702\n",
            "8 0.7993161730148358\n",
            "9 0.8023765078849413\n",
            "10 0.806171642456749\n",
            "11 0.806874361650136\n",
            "12 0.8085424971922763\n",
            "13 0.8102148728056627\n",
            "14 0.8095892388851755\n",
            "15 0.8104175258809162\n",
            "16 0.8084220599455539\n",
            "17 0.8099941274647516\n",
            "19 0.8105101775632111\n",
            "21 0.8119335975504924\n",
            "23 0.8128215752596667\n",
            "25 0.815165535547704\n",
            "27 0.8143129163155981\n",
            "29 0.8176917966073821\n",
            "31 0.8171437765793396\n",
            "33 0.8206698657678304\n",
            "35 0.821046448121428\n",
            "37 0.8232406388506002\n",
            "39 0.8257788364022022\n",
            "(0.8257788364022022, 39)\n"
          ],
          "name": "stdout"
        },
        {
          "output_type": "display_data",
          "data": {
            "image/png": "[encoded data removed]",
            "text/plain": [
              "<Figure size 432x288 with 1 Axes>"
            ]
          },
          "metadata": {
            "tags": []
          }
        }
      ]
    },
    {
      "metadata": {
        "id": "gKrXEBZJ_v07",
        "colab_type": "text"
      },
      "cell_type": "markdown",
      "source": [
        "Se seleccionara valores mayores a 40"
      ]
    },
    {
      "metadata": {
        "id": "hydbPsi0tT1P",
        "colab_type": "text"
      },
      "cell_type": "markdown",
      "source": [
        "### 8.2 Tuning n_estimators"
      ]
    },
    {
      "metadata": {
        "id": "ntYsfdMTtT1P",
        "colab_type": "code",
        "outputId": "4de1e3b8-dbde-4f8c-96b9-9d9b9237c16c",
        "colab": {
          "base_uri": "https://localhost:8080/",
          "height": 423
        }
      },
      "cell_type": "code",
      "source": [
        "# list of values to try for n_estimators\n",
        "estimator_range = range(10, 310, 50)\n",
        "\n",
        "# list to store the average Accuracy for each value of n_estimators\n",
        "accuracy_scores = []\n",
        "\n",
        "for estimator in estimator_range:\n",
        "    clf = OneVsRestClassifier(RandomForestClassifier(class_weight='balanced',n_jobs=-1, n_estimators=estimator, max_depth=37, random_state=42))\n",
        "    \n",
        "    metric=cross_val_score(clf, X_sparse, y_genres, cv=3, scoring='roc_auc').mean()\n",
        "    accuracy_scores.append(metric)\n",
        "    print(estimator,metric)\n",
        "    \n",
        "plt.plot(estimator_range, accuracy_scores)\n",
        "plt.xlabel('n_estimators')\n",
        "plt.ylabel('metric')"
      ],
      "execution_count": 0,
      "outputs": [
        {
          "output_type": "stream",
          "text": [
            "10 0.7781152456652517\n",
            "60 0.8547166818469688\n",
            "110 0.8634830922732698\n",
            "160 0.867079694448913\n",
            "210 0.868712938684375\n",
            "260 0.8699127037483092\n"
          ],
          "name": "stdout"
        },
        {
          "output_type": "execute_result",
          "data": {
            "text/plain": [
              "Text(0, 0.5, 'metric')"
            ]
          },
          "metadata": {
            "tags": []
          },
          "execution_count": 130
        },
        {
          "output_type": "display_data",
          "data": {
            "image/png": "[encoded data removed]",
            "text/plain": [
              "<Figure size 432x288 with 1 Axes>"
            ]
          },
          "metadata": {
            "tags": []
          }
        }
      ]
    },
    {
      "metadata": {
        "id": "kVfyJid1_2Fw",
        "colab_type": "text"
      },
      "cell_type": "markdown",
      "source": [
        "Se seleccionaran valores mayores a 200"
      ]
    },
    {
      "metadata": {
        "id": "M1BO04nQAwd9",
        "colab_type": "text"
      },
      "cell_type": "markdown",
      "source": [
        "## 9 Train multi-class multi-label model"
      ]
    },
    {
      "metadata": {
        "id": "IJsd8PmAtT1V",
        "colab_type": "code",
        "colab": {}
      },
      "cell_type": "code",
      "source": [
        "rf = RandomForestClassifier(class_weight='balanced',n_jobs=-1, n_estimators=260, max_depth=60, max_features='auto', random_state=42000)\n",
        "calrf = CalibratedClassifierCV(rf, cv=3, method='sigmoid')\n",
        "clf = OneVsRestClassifier(calrf )\n",
        "\n",
        "#clf = ClassifierChain(calrf,order = orden )\n",
        "#Jugar con el orden del class chain\n",
        "cols2 = ['p_Action', 'p_Adventure', 'p_Animation', 'p_Biography', 'p_Comedy', 'p_Crime', 'p_Documentary', \n",
        "        '0_Drama', 'p_Family',\n",
        "        'p_Fantasy', 'p_Film-Noir', 'p_History', 'p_Horror', 'p_Music', 'p_Musical', 'p_Mystery',\n",
        "        'p_News', 'p_Romance',\n",
        "        'p_Sci-Fi', 'p_Short', 'p_Sport', '1_Thriller', '3_War', '2_Western']\n",
        "orden = [7, 21, 23, 22, 4,5,6,0,8,9,10,11,12,13,14,15,16,17,18,19,20,1,3,2]\n",
        "\n",
        "#clf = OneVsRestClassifier( LogisticRegression(multi_class='ovr'),n_jobs=-1 )\n",
        "#clf = OneVsRestClassifier( GradientBoostingClassifier(n_estimators=10))\n",
        "#clf = OneVsRestClassifier( Perceptron(),n_jobs=-1)\n",
        "#clf = OneVsRestClassifier( LinearSVC(multi_class='ovr'),n_jobs=-1)\n"
      ],
      "execution_count": 0,
      "outputs": []
    },
    {
      "metadata": {
        "id": "XUNn1rB9tT1Y",
        "colab_type": "code",
        "outputId": "11ffc654-9ac6-40fd-cfbc-d13bfe6e8a96",
        "colab": {
          "base_uri": "https://localhost:8080/",
          "height": 193
        }
      },
      "cell_type": "code",
      "source": [
        "clf.fit(X_train, y_train_genres)"
      ],
      "execution_count": 0,
      "outputs": [
        {
          "output_type": "execute_result",
          "data": {
            "text/plain": [
              "OneVsRestClassifier(estimator=CalibratedClassifierCV(base_estimator=RandomForestClassifier(bootstrap=True, class_weight='balanced',\n",
              "            criterion='gini', max_depth=60, max_features='auto',\n",
              "            max_leaf_nodes=None, min_impurity_decrease=0.0,\n",
              "            min_impurity_split=None, min_samples_leaf=1,\n",
              "      ...e,\n",
              "            random_state=42000, verbose=0, warm_start=False),\n",
              "            cv=3, method='sigmoid'),\n",
              "          n_jobs=None)"
            ]
          },
          "metadata": {
            "tags": []
          },
          "execution_count": 120
        }
      ]
    },
    {
      "metadata": {
        "id": "ZMsBjMbDAZ0I",
        "colab_type": "text"
      },
      "cell_type": "markdown",
      "source": [
        "### 9.1 Cross - Validation"
      ]
    },
    {
      "metadata": {
        "id": "TtgiivxuAXww",
        "colab_type": "code",
        "colab": {}
      },
      "cell_type": "code",
      "source": [
        "def crossval(folds=3):\n",
        "  cross=cross_val_score(clf, X_sparse, y_genres, cv=folds, scoring='roc_auc')\n",
        "  return pd.Series(cross).describe()"
      ],
      "execution_count": 0,
      "outputs": []
    },
    {
      "metadata": {
        "id": "UPQJOvjXXQMm",
        "colab_type": "code",
        "outputId": "30694f72-e2b3-42d5-aaaf-01d1d512e4a3",
        "colab": {
          "base_uri": "https://localhost:8080/",
          "height": 170
        }
      },
      "cell_type": "code",
      "source": [
        "#con calibracion de probabilidades y best parameters\n",
        "crossval(folds=3)"
      ],
      "execution_count": 0,
      "outputs": [
        {
          "output_type": "execute_result",
          "data": {
            "text/plain": [
              "count    3.000000\n",
              "mean     0.889093\n",
              "std      0.003432\n",
              "min      0.885132\n",
              "25%      0.888063\n",
              "50%      0.890993\n",
              "75%      0.891074\n",
              "max      0.891155\n",
              "dtype: float64"
            ]
          },
          "metadata": {
            "tags": []
          },
          "execution_count": 108
        }
      ]
    },
    {
      "metadata": {
        "id": "-zfT2IGGsDOl",
        "colab_type": "code",
        "outputId": "469ed536-b450-4c68-e418-977a95a594be",
        "colab": {
          "base_uri": "https://localhost:8080/",
          "height": 170
        }
      },
      "cell_type": "code",
      "source": [
        "# sin la calibracion\n",
        "crossval()"
      ],
      "execution_count": 0,
      "outputs": [
        {
          "output_type": "execute_result",
          "data": {
            "text/plain": [
              "count    3.000000\n",
              "mean     0.882873\n",
              "std      0.004047\n",
              "min      0.878442\n",
              "25%      0.881124\n",
              "50%      0.883805\n",
              "75%      0.885089\n",
              "max      0.886373\n",
              "dtype: float64"
            ]
          },
          "metadata": {
            "tags": []
          },
          "execution_count": 26
        }
      ]
    },
    {
      "metadata": {
        "id": "DT7lsjK4Bk1T",
        "colab_type": "text"
      },
      "cell_type": "markdown",
      "source": [
        "### 9.2 Predict Training"
      ]
    },
    {
      "metadata": {
        "id": "FitXRlSstT1e",
        "colab_type": "code",
        "outputId": "232bdfc6-acf1-4c58-df05-b061ea47a22a",
        "colab": {
          "base_uri": "https://localhost:8080/",
          "height": 238
        }
      },
      "cell_type": "code",
      "source": [
        "y_pred_genres = clf.predict_proba(X_test)\n",
        "y_pred_genres"
      ],
      "execution_count": 0,
      "outputs": [
        {
          "output_type": "execute_result",
          "data": {
            "text/plain": [
              "array([[0.03550196, 0.03424047, 0.01480961, ..., 0.07398513, 0.00694842,\n",
              "        0.00275113],\n",
              "       [0.01447851, 0.03121557, 0.00896462, ..., 0.04400353, 0.00710458,\n",
              "        0.00157358],\n",
              "       [0.02557892, 0.01616288, 0.00739668, ..., 0.06928308, 0.0077672 ,\n",
              "        0.00144276],\n",
              "       ...,\n",
              "       [0.1008661 , 0.07310094, 0.01242146, ..., 0.11218681, 0.56780324,\n",
              "        0.00440066],\n",
              "       [0.01744367, 0.03138568, 0.00852807, ..., 0.07093954, 0.00924119,\n",
              "        0.0023074 ],\n",
              "       [0.16678613, 0.42786257, 0.01659349, ..., 0.27216221, 0.01507029,\n",
              "        0.26992008]])"
            ]
          },
          "metadata": {
            "tags": []
          },
          "execution_count": 121
        }
      ]
    },
    {
      "metadata": {
        "id": "LKHP4pKoFeq8",
        "colab_type": "code",
        "outputId": "6618a886-7077-4181-8591-e720609c583b",
        "colab": {
          "base_uri": "https://localhost:8080/",
          "height": 136
        }
      },
      "cell_type": "code",
      "source": [
        "y_pred_class=clf.predict(X_test)\n",
        "y_pred_class"
      ],
      "execution_count": 0,
      "outputs": [
        {
          "output_type": "execute_result",
          "data": {
            "text/plain": [
              "array([[0, 0, 0, ..., 0, 0, 0],\n",
              "       [0, 0, 0, ..., 0, 0, 0],\n",
              "       [0, 0, 0, ..., 0, 0, 0],\n",
              "       ...,\n",
              "       [0, 0, 0, ..., 0, 1, 0],\n",
              "       [0, 0, 0, ..., 0, 0, 0],\n",
              "       [0, 0, 0, ..., 0, 0, 0]])"
            ]
          },
          "metadata": {
            "tags": []
          },
          "execution_count": 122
        }
      ]
    },
    {
      "metadata": {
        "id": "6F2LV140zlL_",
        "colab_type": "text"
      },
      "cell_type": "markdown",
      "source": [
        "## 10 Evaluate ROC"
      ]
    },
    {
      "metadata": {
        "id": "M09K5YiapdZG",
        "colab_type": "text"
      },
      "cell_type": "markdown",
      "source": [
        "### 10.1 ROC over dataTraining Test (Holdout) set"
      ]
    },
    {
      "metadata": {
        "id": "NI_ntQBTtT1f",
        "colab_type": "code",
        "outputId": "9024754a-47a8-4d16-a35a-fa5dee349806",
        "colab": {
          "base_uri": "https://localhost:8080/",
          "height": 946
        }
      },
      "cell_type": "code",
      "source": [
        "cols = ['p_Action', 'p_Adventure', 'p_Animation', 'p_Biography', 'p_Comedy', 'p_Crime', 'p_Documentary', 'p_Drama', 'p_Family',\n",
        "        'p_Fantasy', 'p_Film-Noir', 'p_History', 'p_Horror', 'p_Music', 'p_Musical', 'p_Mystery', 'p_News', 'p_Romance',\n",
        "        'p_Sci-Fi', 'p_Short', 'p_Sport', 'p_Thriller', 'p_War', 'p_Western']\n",
        "\n",
        "class_roc_proba = roc_auc_score(y_test_genres, y_pred_genres, average=None)\n",
        "class_roc_class = roc_auc_score(y_test_genres, y_pred_class, average=None)\n",
        "\n",
        "print('rocs: \\n')\n",
        "\n",
        "col1 = [roc_auc_score(y_test_genres, y_pred_genres, average='macro'),roc_auc_score(y_test_genres, y_pred_genres, average='weighted')]     \n",
        "col2 = [roc_auc_score(y_test_genres, y_pred_class, average='macro'),roc_auc_score(y_test_genres, y_pred_class, average='weighted')]\n",
        "roc_table = pd.DataFrame(index=['macro','weighted'],  data={'predict proba':col1, 'predict class': col2})\n",
        "print(roc_table)\n",
        "\n",
        "rocs = pd.DataFrame(class_roc_proba,index=cols,  columns=['roc'])\n",
        "rocs['class']=class_roc_class\n",
        "rocs.sort_values(by=['roc'],inplace=True)\n",
        "\n",
        "print('A perfect predictor gives an AUC-ROC score of 1,\\n a predictor which makes random guesses has an AUC-ROC score of 0.5.')\n",
        "print('\\n ROC by Class: ')\n",
        "rocs"
      ],
      "execution_count": 0,
      "outputs": [
        {
          "output_type": "stream",
          "text": [
            "rocs: \n",
            "\n",
            "          predict proba  predict class\n",
            "macro          0.883957       0.659689\n",
            "weighted       0.842091       0.675676\n",
            "A perfect predictor gives an AUC-ROC score of 1,\n",
            " a predictor which makes random guesses has an AUC-ROC score of 0.5.\n",
            "\n",
            " ROC by Class: \n"
          ],
          "name": "stdout"
        },
        {
          "output_type": "execute_result",
          "data": {
            "text/html": [
              "<div>\n",
              "<style scoped>\n",
              "    .dataframe tbody tr th:only-of-type {\n",
              "        vertical-align: middle;\n",
              "    }\n",
              "\n",
              "    .dataframe tbody tr th {\n",
              "        vertical-align: top;\n",
              "    }\n",
              "\n",
              "    .dataframe thead th {\n",
              "        text-align: right;\n",
              "    }\n",
              "</style>\n",
              "<table border=\"1\" class=\"dataframe\">\n",
              "  <thead>\n",
              "    <tr style=\"text-align: right;\">\n",
              "      <th></th>\n",
              "      <th>roc</th>\n",
              "      <th>class</th>\n",
              "    </tr>\n",
              "  </thead>\n",
              "  <tbody>\n",
              "    <tr>\n",
              "      <th>p_Drama</th>\n",
              "      <td>0.755400</td>\n",
              "      <td>0.678583</td>\n",
              "    </tr>\n",
              "    <tr>\n",
              "      <th>p_Comedy</th>\n",
              "      <td>0.784495</td>\n",
              "      <td>0.699471</td>\n",
              "    </tr>\n",
              "    <tr>\n",
              "      <th>p_Short</th>\n",
              "      <td>0.813795</td>\n",
              "      <td>0.558610</td>\n",
              "    </tr>\n",
              "    <tr>\n",
              "      <th>p_Biography</th>\n",
              "      <td>0.834352</td>\n",
              "      <td>0.548937</td>\n",
              "    </tr>\n",
              "    <tr>\n",
              "      <th>p_Romance</th>\n",
              "      <td>0.834668</td>\n",
              "      <td>0.692249</td>\n",
              "    </tr>\n",
              "    <tr>\n",
              "      <th>p_Thriller</th>\n",
              "      <td>0.837662</td>\n",
              "      <td>0.681261</td>\n",
              "    </tr>\n",
              "    <tr>\n",
              "      <th>p_Mystery</th>\n",
              "      <td>0.841094</td>\n",
              "      <td>0.588954</td>\n",
              "    </tr>\n",
              "    <tr>\n",
              "      <th>p_Family</th>\n",
              "      <td>0.847401</td>\n",
              "      <td>0.608176</td>\n",
              "    </tr>\n",
              "    <tr>\n",
              "      <th>p_History</th>\n",
              "      <td>0.847522</td>\n",
              "      <td>0.515241</td>\n",
              "    </tr>\n",
              "    <tr>\n",
              "      <th>p_Musical</th>\n",
              "      <td>0.856956</td>\n",
              "      <td>0.581807</td>\n",
              "    </tr>\n",
              "    <tr>\n",
              "      <th>p_Fantasy</th>\n",
              "      <td>0.859418</td>\n",
              "      <td>0.629169</td>\n",
              "    </tr>\n",
              "    <tr>\n",
              "      <th>p_Adventure</th>\n",
              "      <td>0.860981</td>\n",
              "      <td>0.630038</td>\n",
              "    </tr>\n",
              "    <tr>\n",
              "      <th>p_Crime</th>\n",
              "      <td>0.886248</td>\n",
              "      <td>0.732974</td>\n",
              "    </tr>\n",
              "    <tr>\n",
              "      <th>p_Action</th>\n",
              "      <td>0.891504</td>\n",
              "      <td>0.690039</td>\n",
              "    </tr>\n",
              "    <tr>\n",
              "      <th>p_Animation</th>\n",
              "      <td>0.898739</td>\n",
              "      <td>0.596723</td>\n",
              "    </tr>\n",
              "    <tr>\n",
              "      <th>p_Music</th>\n",
              "      <td>0.921171</td>\n",
              "      <td>0.721797</td>\n",
              "    </tr>\n",
              "    <tr>\n",
              "      <th>p_Sci-Fi</th>\n",
              "      <td>0.928416</td>\n",
              "      <td>0.721108</td>\n",
              "    </tr>\n",
              "    <tr>\n",
              "      <th>p_News</th>\n",
              "      <td>0.936434</td>\n",
              "      <td>0.750000</td>\n",
              "    </tr>\n",
              "    <tr>\n",
              "      <th>p_Horror</th>\n",
              "      <td>0.939036</td>\n",
              "      <td>0.703768</td>\n",
              "    </tr>\n",
              "    <tr>\n",
              "      <th>p_Film-Noir</th>\n",
              "      <td>0.952044</td>\n",
              "      <td>0.624136</td>\n",
              "    </tr>\n",
              "    <tr>\n",
              "      <th>p_War</th>\n",
              "      <td>0.960003</td>\n",
              "      <td>0.667761</td>\n",
              "    </tr>\n",
              "    <tr>\n",
              "      <th>p_Documentary</th>\n",
              "      <td>0.966582</td>\n",
              "      <td>0.728832</td>\n",
              "    </tr>\n",
              "    <tr>\n",
              "      <th>p_Sport</th>\n",
              "      <td>0.978757</td>\n",
              "      <td>0.717387</td>\n",
              "    </tr>\n",
              "    <tr>\n",
              "      <th>p_Western</th>\n",
              "      <td>0.982303</td>\n",
              "      <td>0.765510</td>\n",
              "    </tr>\n",
              "  </tbody>\n",
              "</table>\n",
              "</div>"
            ],
            "text/plain": [
              "                    roc     class\n",
              "p_Drama        0.755400  0.678583\n",
              "p_Comedy       0.784495  0.699471\n",
              "p_Short        0.813795  0.558610\n",
              "p_Biography    0.834352  0.548937\n",
              "p_Romance      0.834668  0.692249\n",
              "p_Thriller     0.837662  0.681261\n",
              "p_Mystery      0.841094  0.588954\n",
              "p_Family       0.847401  0.608176\n",
              "p_History      0.847522  0.515241\n",
              "p_Musical      0.856956  0.581807\n",
              "p_Fantasy      0.859418  0.629169\n",
              "p_Adventure    0.860981  0.630038\n",
              "p_Crime        0.886248  0.732974\n",
              "p_Action       0.891504  0.690039\n",
              "p_Animation    0.898739  0.596723\n",
              "p_Music        0.921171  0.721797\n",
              "p_Sci-Fi       0.928416  0.721108\n",
              "p_News         0.936434  0.750000\n",
              "p_Horror       0.939036  0.703768\n",
              "p_Film-Noir    0.952044  0.624136\n",
              "p_War          0.960003  0.667761\n",
              "p_Documentary  0.966582  0.728832\n",
              "p_Sport        0.978757  0.717387\n",
              "p_Western      0.982303  0.765510"
            ]
          },
          "metadata": {
            "tags": []
          },
          "execution_count": 123
        }
      ]
    },
    {
      "metadata": {
        "id": "-GGS7KR-tT15",
        "colab_type": "text"
      },
      "cell_type": "markdown",
      "source": [
        "### 10.2 Predict Testing"
      ]
    },
    {
      "metadata": {
        "id": "FCAN4VqbtT15",
        "colab_type": "code",
        "outputId": "94c1bc91-0394-4b0c-c007-002a209f9e14",
        "colab": {
          "base_uri": "https://localhost:8080/",
          "height": 51
        }
      },
      "cell_type": "code",
      "source": [
        "#X_test=dataTesting['title']+\" \"+dataTesting['title']+\" \"+dataTesting['title']+\" \"+dataTesting['title']+\" \"+dataTesting['title']+\" \"+dataTesting['title']+\" \"+dataTesting['title']+\" \"+dataTesting['title']+\" \"+dataTesting['title']+\" \"+dataTesting['title']+\" \"+dataTesting['title']+\" \"+dataTesting['title']+\" \"+dataTesting['title']+\" \"+dataTesting['title']+\" \"+dataTesting['title']+\" \"+dataTesting['title']+\" \"+dataTesting['title']+\" \"+dataTesting['title']+\" \"+dataTesting['title']+\" \"+dataTesting['title']+\" \"+dataTesting['title']+\" \"+dataTesting['title']+\" \"+dataTesting['title']+\" \"+dataTesting['title']+\" \"+dataTesting['title']+\" \"+dataTesting['title']+\" \"+dataTesting['title']+\" \"+dataTesting['title']+\" \"+dataTesting['title']+\" \"+dataTesting['title']+\" \"+dataTesting['title']+\" \"+dataTesting['title']+\" \"+dataTesting['plot']\n",
        "X_test = (dataTesting['title']+\" \")+dataTesting['plot']\n",
        "\n",
        "#PORTER STEMMER\n",
        "#from nltk.stem.porter import *\n",
        "#porter=PorterStemmer()\n",
        "#lancaster=LancasterStemmer()\n",
        "\n",
        "#tokenize\n",
        "X_test=X_test.apply(nltk.word_tokenize)\n",
        "\n",
        "#stemming\n",
        "X_test=X_test.apply(lambda x: [porter.stem(y) for y in x])\n",
        "\n",
        "for i in dataTesting.index:\n",
        "    list1=X_test.loc[i]\n",
        "    X_test.loc[i]=' '.join(list1)\n",
        "\n",
        "# LEMMATIZATION\n",
        "\n",
        "#w_tokenizer=nltk.tokenize.WhitespaceTokenizer()\n",
        "#lemmatizer=nltk.stem.WordNetLemmatizer()\n",
        "\n",
        "X_test=X_test.apply(nltk.word_tokenize)\n",
        "\n",
        "X_test=X_test.apply(lambda x: [lemmatizer.lemmatize(w) for w in x])\n",
        "\n",
        "for i in dataTesting.index:\n",
        "    list1=X_test.loc[i]\n",
        "    X_test.loc[i]=' '.join(list1)\n",
        "\n",
        "\n",
        "\n",
        "X_test_dtm = vect.transform(X_test)\n",
        "\n",
        "\n",
        "Title=dataTesting['title']\n",
        "Title=lemmerT(stemmerT(Title))\n",
        "\n",
        "X_test_dtm_T = vectTitle.transform(Title)\n",
        "print(X_test_dtm_T.shape)\n",
        "X_test_dtm_T\n",
        "\n",
        "from scipy.sparse import hstack\n",
        "X_sparseTest=hstack((X_test_dtm,X_test_dtm_T, featuresTest))\n",
        "print(X_sparseTest.shape)\n",
        "\n",
        "y_pred_test_genres = clf.predict_proba(X_sparseTest)\n"
      ],
      "execution_count": 0,
      "outputs": [
        {
          "output_type": "stream",
          "text": [
            "(3383, 2000)\n",
            "(3383, 10009)\n"
          ],
          "name": "stdout"
        }
      ]
    },
    {
      "metadata": {
        "id": "A4XoVqIktT17",
        "colab_type": "code",
        "outputId": "503a8741-3c4c-4559-bbca-a25ebbfa8fc3",
        "colab": {
          "base_uri": "https://localhost:8080/",
          "height": 755
        }
      },
      "cell_type": "code",
      "source": [
        "cols = ['p_Action', 'p_Adventure', 'p_Animation', 'p_Biography', 'p_Comedy', 'p_Crime', 'p_Documentary', 'p_Drama', 'p_Family',\n",
        "        'p_Fantasy', 'p_Film-Noir', 'p_History', 'p_Horror', 'p_Music', 'p_Musical', 'p_Mystery', 'p_News', 'p_Romance',\n",
        "        'p_Sci-Fi', 'p_Short', 'p_Sport', 'p_Thriller', 'p_War', 'p_Western']\n",
        "\n",
        "res = pd.DataFrame(y_pred_test_genres, index=dataTesting.index, columns=cols)\n",
        "\n",
        "res.head(20)"
      ],
      "execution_count": 0,
      "outputs": [
        {
          "output_type": "execute_result",
          "data": {
            "text/html": [
              "<div>\n",
              "<style scoped>\n",
              "    .dataframe tbody tr th:only-of-type {\n",
              "        vertical-align: middle;\n",
              "    }\n",
              "\n",
              "    .dataframe tbody tr th {\n",
              "        vertical-align: top;\n",
              "    }\n",
              "\n",
              "    .dataframe thead th {\n",
              "        text-align: right;\n",
              "    }\n",
              "</style>\n",
              "<table border=\"1\" class=\"dataframe\">\n",
              "  <thead>\n",
              "    <tr style=\"text-align: right;\">\n",
              "      <th></th>\n",
              "      <th>p_Action</th>\n",
              "      <th>p_Adventure</th>\n",
              "      <th>p_Animation</th>\n",
              "      <th>p_Biography</th>\n",
              "      <th>p_Comedy</th>\n",
              "      <th>p_Crime</th>\n",
              "      <th>p_Documentary</th>\n",
              "      <th>p_Drama</th>\n",
              "      <th>p_Family</th>\n",
              "      <th>p_Fantasy</th>\n",
              "      <th>...</th>\n",
              "      <th>p_Musical</th>\n",
              "      <th>p_Mystery</th>\n",
              "      <th>p_News</th>\n",
              "      <th>p_Romance</th>\n",
              "      <th>p_Sci-Fi</th>\n",
              "      <th>p_Short</th>\n",
              "      <th>p_Sport</th>\n",
              "      <th>p_Thriller</th>\n",
              "      <th>p_War</th>\n",
              "      <th>p_Western</th>\n",
              "    </tr>\n",
              "  </thead>\n",
              "  <tbody>\n",
              "    <tr>\n",
              "      <th>1</th>\n",
              "      <td>0.039885</td>\n",
              "      <td>0.055218</td>\n",
              "      <td>0.011614</td>\n",
              "      <td>0.017688</td>\n",
              "      <td>0.414987</td>\n",
              "      <td>0.042232</td>\n",
              "      <td>0.010513</td>\n",
              "      <td>0.619460</td>\n",
              "      <td>0.054141</td>\n",
              "      <td>0.139913</td>\n",
              "      <td>...</td>\n",
              "      <td>0.015159</td>\n",
              "      <td>0.053240</td>\n",
              "      <td>0.001100</td>\n",
              "      <td>0.617443</td>\n",
              "      <td>0.016422</td>\n",
              "      <td>0.006812</td>\n",
              "      <td>0.004713</td>\n",
              "      <td>0.138889</td>\n",
              "      <td>0.008096</td>\n",
              "      <td>0.004495</td>\n",
              "    </tr>\n",
              "    <tr>\n",
              "      <th>4</th>\n",
              "      <td>0.065966</td>\n",
              "      <td>0.019204</td>\n",
              "      <td>0.010231</td>\n",
              "      <td>0.780072</td>\n",
              "      <td>0.160264</td>\n",
              "      <td>0.348720</td>\n",
              "      <td>0.093382</td>\n",
              "      <td>0.742588</td>\n",
              "      <td>0.016312</td>\n",
              "      <td>0.017296</td>\n",
              "      <td>...</td>\n",
              "      <td>0.024859</td>\n",
              "      <td>0.021844</td>\n",
              "      <td>0.001100</td>\n",
              "      <td>0.060194</td>\n",
              "      <td>0.009643</td>\n",
              "      <td>0.011057</td>\n",
              "      <td>0.009301</td>\n",
              "      <td>0.134133</td>\n",
              "      <td>0.015376</td>\n",
              "      <td>0.002369</td>\n",
              "    </tr>\n",
              "    <tr>\n",
              "      <th>5</th>\n",
              "      <td>0.035280</td>\n",
              "      <td>0.019253</td>\n",
              "      <td>0.006679</td>\n",
              "      <td>0.031990</td>\n",
              "      <td>0.106849</td>\n",
              "      <td>0.513275</td>\n",
              "      <td>0.011034</td>\n",
              "      <td>0.807558</td>\n",
              "      <td>0.012876</td>\n",
              "      <td>0.030324</td>\n",
              "      <td>...</td>\n",
              "      <td>0.010522</td>\n",
              "      <td>0.231479</td>\n",
              "      <td>0.001213</td>\n",
              "      <td>0.182957</td>\n",
              "      <td>0.014713</td>\n",
              "      <td>0.003084</td>\n",
              "      <td>0.009209</td>\n",
              "      <td>0.364827</td>\n",
              "      <td>0.009081</td>\n",
              "      <td>0.002378</td>\n",
              "    </tr>\n",
              "    <tr>\n",
              "      <th>6</th>\n",
              "      <td>0.057583</td>\n",
              "      <td>0.032556</td>\n",
              "      <td>0.008314</td>\n",
              "      <td>0.026099</td>\n",
              "      <td>0.103620</td>\n",
              "      <td>0.049570</td>\n",
              "      <td>0.011465</td>\n",
              "      <td>0.755425</td>\n",
              "      <td>0.015807</td>\n",
              "      <td>0.022847</td>\n",
              "      <td>...</td>\n",
              "      <td>0.021634</td>\n",
              "      <td>0.095856</td>\n",
              "      <td>0.001100</td>\n",
              "      <td>0.108340</td>\n",
              "      <td>0.070716</td>\n",
              "      <td>0.003099</td>\n",
              "      <td>0.008427</td>\n",
              "      <td>0.383562</td>\n",
              "      <td>0.025585</td>\n",
              "      <td>0.005164</td>\n",
              "    </tr>\n",
              "    <tr>\n",
              "      <th>7</th>\n",
              "      <td>0.064163</td>\n",
              "      <td>0.111583</td>\n",
              "      <td>0.022058</td>\n",
              "      <td>0.027709</td>\n",
              "      <td>0.122309</td>\n",
              "      <td>0.167889</td>\n",
              "      <td>0.012719</td>\n",
              "      <td>0.196154</td>\n",
              "      <td>0.034713</td>\n",
              "      <td>0.430375</td>\n",
              "      <td>...</td>\n",
              "      <td>0.019026</td>\n",
              "      <td>0.091355</td>\n",
              "      <td>0.001115</td>\n",
              "      <td>0.070809</td>\n",
              "      <td>0.890968</td>\n",
              "      <td>0.003636</td>\n",
              "      <td>0.005787</td>\n",
              "      <td>0.286078</td>\n",
              "      <td>0.008290</td>\n",
              "      <td>0.004274</td>\n",
              "    </tr>\n",
              "    <tr>\n",
              "      <th>9</th>\n",
              "      <td>0.032041</td>\n",
              "      <td>0.047629</td>\n",
              "      <td>0.006523</td>\n",
              "      <td>0.170903</td>\n",
              "      <td>0.193953</td>\n",
              "      <td>0.049873</td>\n",
              "      <td>0.019861</td>\n",
              "      <td>0.574839</td>\n",
              "      <td>0.012699</td>\n",
              "      <td>0.030931</td>\n",
              "      <td>...</td>\n",
              "      <td>0.033096</td>\n",
              "      <td>0.027661</td>\n",
              "      <td>0.001100</td>\n",
              "      <td>0.120624</td>\n",
              "      <td>0.015003</td>\n",
              "      <td>0.005297</td>\n",
              "      <td>0.032038</td>\n",
              "      <td>0.086934</td>\n",
              "      <td>0.010282</td>\n",
              "      <td>0.009154</td>\n",
              "    </tr>\n",
              "    <tr>\n",
              "      <th>11</th>\n",
              "      <td>0.343536</td>\n",
              "      <td>0.277354</td>\n",
              "      <td>0.017424</td>\n",
              "      <td>0.218105</td>\n",
              "      <td>0.209165</td>\n",
              "      <td>0.104391</td>\n",
              "      <td>0.648836</td>\n",
              "      <td>0.325164</td>\n",
              "      <td>0.112125</td>\n",
              "      <td>0.106850</td>\n",
              "      <td>...</td>\n",
              "      <td>0.065629</td>\n",
              "      <td>0.025769</td>\n",
              "      <td>0.001115</td>\n",
              "      <td>0.193927</td>\n",
              "      <td>0.053485</td>\n",
              "      <td>0.006423</td>\n",
              "      <td>0.050542</td>\n",
              "      <td>0.073375</td>\n",
              "      <td>0.009385</td>\n",
              "      <td>0.006193</td>\n",
              "    </tr>\n",
              "    <tr>\n",
              "      <th>13</th>\n",
              "      <td>0.446073</td>\n",
              "      <td>0.045433</td>\n",
              "      <td>0.009082</td>\n",
              "      <td>0.016656</td>\n",
              "      <td>0.854715</td>\n",
              "      <td>0.640100</td>\n",
              "      <td>0.009782</td>\n",
              "      <td>0.596229</td>\n",
              "      <td>0.029404</td>\n",
              "      <td>0.055968</td>\n",
              "      <td>...</td>\n",
              "      <td>0.020413</td>\n",
              "      <td>0.022794</td>\n",
              "      <td>0.001100</td>\n",
              "      <td>0.300846</td>\n",
              "      <td>0.016965</td>\n",
              "      <td>0.004292</td>\n",
              "      <td>0.007794</td>\n",
              "      <td>0.337010</td>\n",
              "      <td>0.011559</td>\n",
              "      <td>0.002555</td>\n",
              "    </tr>\n",
              "    <tr>\n",
              "      <th>16</th>\n",
              "      <td>0.031742</td>\n",
              "      <td>0.030783</td>\n",
              "      <td>0.007707</td>\n",
              "      <td>0.027552</td>\n",
              "      <td>0.703543</td>\n",
              "      <td>0.026125</td>\n",
              "      <td>0.014347</td>\n",
              "      <td>0.697515</td>\n",
              "      <td>0.012682</td>\n",
              "      <td>0.021020</td>\n",
              "      <td>...</td>\n",
              "      <td>0.014084</td>\n",
              "      <td>0.023779</td>\n",
              "      <td>0.001124</td>\n",
              "      <td>0.745062</td>\n",
              "      <td>0.019762</td>\n",
              "      <td>0.003984</td>\n",
              "      <td>0.007411</td>\n",
              "      <td>0.054347</td>\n",
              "      <td>0.008784</td>\n",
              "      <td>0.001926</td>\n",
              "    </tr>\n",
              "    <tr>\n",
              "      <th>21</th>\n",
              "      <td>0.033460</td>\n",
              "      <td>0.112286</td>\n",
              "      <td>0.014527</td>\n",
              "      <td>0.026887</td>\n",
              "      <td>0.755203</td>\n",
              "      <td>0.042377</td>\n",
              "      <td>0.015098</td>\n",
              "      <td>0.492233</td>\n",
              "      <td>0.178143</td>\n",
              "      <td>0.031168</td>\n",
              "      <td>...</td>\n",
              "      <td>0.013229</td>\n",
              "      <td>0.031553</td>\n",
              "      <td>0.001100</td>\n",
              "      <td>0.418357</td>\n",
              "      <td>0.012465</td>\n",
              "      <td>0.006976</td>\n",
              "      <td>0.006500</td>\n",
              "      <td>0.060623</td>\n",
              "      <td>0.006489</td>\n",
              "      <td>0.003124</td>\n",
              "    </tr>\n",
              "    <tr>\n",
              "      <th>22</th>\n",
              "      <td>0.136479</td>\n",
              "      <td>0.333531</td>\n",
              "      <td>0.070811</td>\n",
              "      <td>0.025085</td>\n",
              "      <td>0.262024</td>\n",
              "      <td>0.024665</td>\n",
              "      <td>0.009183</td>\n",
              "      <td>0.559100</td>\n",
              "      <td>0.212964</td>\n",
              "      <td>0.599225</td>\n",
              "      <td>...</td>\n",
              "      <td>0.018206</td>\n",
              "      <td>0.042801</td>\n",
              "      <td>0.001100</td>\n",
              "      <td>0.352099</td>\n",
              "      <td>0.058173</td>\n",
              "      <td>0.003099</td>\n",
              "      <td>0.006429</td>\n",
              "      <td>0.119649</td>\n",
              "      <td>0.019195</td>\n",
              "      <td>0.002144</td>\n",
              "    </tr>\n",
              "    <tr>\n",
              "      <th>24</th>\n",
              "      <td>0.467495</td>\n",
              "      <td>0.016328</td>\n",
              "      <td>0.007691</td>\n",
              "      <td>0.015267</td>\n",
              "      <td>0.270156</td>\n",
              "      <td>0.786782</td>\n",
              "      <td>0.009429</td>\n",
              "      <td>0.456723</td>\n",
              "      <td>0.014416</td>\n",
              "      <td>0.022601</td>\n",
              "      <td>...</td>\n",
              "      <td>0.015153</td>\n",
              "      <td>0.535248</td>\n",
              "      <td>0.001115</td>\n",
              "      <td>0.485611</td>\n",
              "      <td>0.016758</td>\n",
              "      <td>0.003556</td>\n",
              "      <td>0.005398</td>\n",
              "      <td>0.806392</td>\n",
              "      <td>0.006716</td>\n",
              "      <td>0.002037</td>\n",
              "    </tr>\n",
              "    <tr>\n",
              "      <th>25</th>\n",
              "      <td>0.075253</td>\n",
              "      <td>0.089571</td>\n",
              "      <td>0.012245</td>\n",
              "      <td>0.029028</td>\n",
              "      <td>0.250128</td>\n",
              "      <td>0.164255</td>\n",
              "      <td>0.009153</td>\n",
              "      <td>0.628866</td>\n",
              "      <td>0.057881</td>\n",
              "      <td>0.039287</td>\n",
              "      <td>...</td>\n",
              "      <td>0.027341</td>\n",
              "      <td>0.045284</td>\n",
              "      <td>0.001100</td>\n",
              "      <td>0.091839</td>\n",
              "      <td>0.013832</td>\n",
              "      <td>0.003902</td>\n",
              "      <td>0.008691</td>\n",
              "      <td>0.300191</td>\n",
              "      <td>0.011017</td>\n",
              "      <td>0.913548</td>\n",
              "    </tr>\n",
              "    <tr>\n",
              "      <th>32</th>\n",
              "      <td>0.019468</td>\n",
              "      <td>0.029731</td>\n",
              "      <td>0.009833</td>\n",
              "      <td>0.027003</td>\n",
              "      <td>0.837260</td>\n",
              "      <td>0.031877</td>\n",
              "      <td>0.009812</td>\n",
              "      <td>0.400077</td>\n",
              "      <td>0.031491</td>\n",
              "      <td>0.032280</td>\n",
              "      <td>...</td>\n",
              "      <td>0.102908</td>\n",
              "      <td>0.029094</td>\n",
              "      <td>0.001100</td>\n",
              "      <td>0.529362</td>\n",
              "      <td>0.008523</td>\n",
              "      <td>0.033128</td>\n",
              "      <td>0.006428</td>\n",
              "      <td>0.055313</td>\n",
              "      <td>0.010666</td>\n",
              "      <td>0.007720</td>\n",
              "    </tr>\n",
              "    <tr>\n",
              "      <th>38</th>\n",
              "      <td>0.024401</td>\n",
              "      <td>0.024844</td>\n",
              "      <td>0.009560</td>\n",
              "      <td>0.025280</td>\n",
              "      <td>0.562662</td>\n",
              "      <td>0.029321</td>\n",
              "      <td>0.011924</td>\n",
              "      <td>0.676016</td>\n",
              "      <td>0.030565</td>\n",
              "      <td>0.022397</td>\n",
              "      <td>...</td>\n",
              "      <td>0.028764</td>\n",
              "      <td>0.045389</td>\n",
              "      <td>0.001100</td>\n",
              "      <td>0.370584</td>\n",
              "      <td>0.013664</td>\n",
              "      <td>0.003462</td>\n",
              "      <td>0.006800</td>\n",
              "      <td>0.125522</td>\n",
              "      <td>0.010400</td>\n",
              "      <td>0.002204</td>\n",
              "    </tr>\n",
              "    <tr>\n",
              "      <th>40</th>\n",
              "      <td>0.156828</td>\n",
              "      <td>0.032401</td>\n",
              "      <td>0.005849</td>\n",
              "      <td>0.021923</td>\n",
              "      <td>0.367509</td>\n",
              "      <td>0.692164</td>\n",
              "      <td>0.011956</td>\n",
              "      <td>0.486765</td>\n",
              "      <td>0.017713</td>\n",
              "      <td>0.018000</td>\n",
              "      <td>...</td>\n",
              "      <td>0.020570</td>\n",
              "      <td>0.027892</td>\n",
              "      <td>0.001100</td>\n",
              "      <td>0.131084</td>\n",
              "      <td>0.012689</td>\n",
              "      <td>0.062683</td>\n",
              "      <td>0.005598</td>\n",
              "      <td>0.120254</td>\n",
              "      <td>0.056351</td>\n",
              "      <td>0.013676</td>\n",
              "    </tr>\n",
              "    <tr>\n",
              "      <th>54</th>\n",
              "      <td>0.102962</td>\n",
              "      <td>0.082176</td>\n",
              "      <td>0.471152</td>\n",
              "      <td>0.024936</td>\n",
              "      <td>0.899559</td>\n",
              "      <td>0.036082</td>\n",
              "      <td>0.011065</td>\n",
              "      <td>0.167241</td>\n",
              "      <td>0.474717</td>\n",
              "      <td>0.087707</td>\n",
              "      <td>...</td>\n",
              "      <td>0.181465</td>\n",
              "      <td>0.027464</td>\n",
              "      <td>0.001100</td>\n",
              "      <td>0.243123</td>\n",
              "      <td>0.071670</td>\n",
              "      <td>0.004852</td>\n",
              "      <td>0.009359</td>\n",
              "      <td>0.088437</td>\n",
              "      <td>0.006061</td>\n",
              "      <td>0.003024</td>\n",
              "    </tr>\n",
              "    <tr>\n",
              "      <th>55</th>\n",
              "      <td>0.043931</td>\n",
              "      <td>0.080801</td>\n",
              "      <td>0.040414</td>\n",
              "      <td>0.020558</td>\n",
              "      <td>0.384035</td>\n",
              "      <td>0.048740</td>\n",
              "      <td>0.011543</td>\n",
              "      <td>0.560929</td>\n",
              "      <td>0.137401</td>\n",
              "      <td>0.507344</td>\n",
              "      <td>...</td>\n",
              "      <td>0.018723</td>\n",
              "      <td>0.151421</td>\n",
              "      <td>0.001100</td>\n",
              "      <td>0.111241</td>\n",
              "      <td>0.024372</td>\n",
              "      <td>0.003695</td>\n",
              "      <td>0.006798</td>\n",
              "      <td>0.207251</td>\n",
              "      <td>0.011589</td>\n",
              "      <td>0.001500</td>\n",
              "    </tr>\n",
              "    <tr>\n",
              "      <th>60</th>\n",
              "      <td>0.064404</td>\n",
              "      <td>0.677531</td>\n",
              "      <td>0.193600</td>\n",
              "      <td>0.016343</td>\n",
              "      <td>0.833590</td>\n",
              "      <td>0.024186</td>\n",
              "      <td>0.009632</td>\n",
              "      <td>0.198454</td>\n",
              "      <td>0.894577</td>\n",
              "      <td>0.665025</td>\n",
              "      <td>...</td>\n",
              "      <td>0.028756</td>\n",
              "      <td>0.030932</td>\n",
              "      <td>0.001100</td>\n",
              "      <td>0.256375</td>\n",
              "      <td>0.053898</td>\n",
              "      <td>0.004281</td>\n",
              "      <td>0.008000</td>\n",
              "      <td>0.048955</td>\n",
              "      <td>0.006000</td>\n",
              "      <td>0.004550</td>\n",
              "    </tr>\n",
              "    <tr>\n",
              "      <th>64</th>\n",
              "      <td>0.014274</td>\n",
              "      <td>0.020216</td>\n",
              "      <td>0.009823</td>\n",
              "      <td>0.032981</td>\n",
              "      <td>0.719894</td>\n",
              "      <td>0.039317</td>\n",
              "      <td>0.011546</td>\n",
              "      <td>0.712935</td>\n",
              "      <td>0.021096</td>\n",
              "      <td>0.024256</td>\n",
              "      <td>...</td>\n",
              "      <td>0.072677</td>\n",
              "      <td>0.069805</td>\n",
              "      <td>0.001132</td>\n",
              "      <td>0.701899</td>\n",
              "      <td>0.014153</td>\n",
              "      <td>0.004361</td>\n",
              "      <td>0.005731</td>\n",
              "      <td>0.055821</td>\n",
              "      <td>0.009239</td>\n",
              "      <td>0.002333</td>\n",
              "    </tr>\n",
              "  </tbody>\n",
              "</table>\n",
              "<p>20 rows × 24 columns</p>\n",
              "</div>"
            ],
            "text/plain": [
              "    p_Action  p_Adventure  p_Animation  p_Biography  p_Comedy   p_Crime  \\\n",
              "1   0.039885     0.055218     0.011614     0.017688  0.414987  0.042232   \n",
              "4   0.065966     0.019204     0.010231     0.780072  0.160264  0.348720   \n",
              "5   0.035280     0.019253     0.006679     0.031990  0.106849  0.513275   \n",
              "6   0.057583     0.032556     0.008314     0.026099  0.103620  0.049570   \n",
              "7   0.064163     0.111583     0.022058     0.027709  0.122309  0.167889   \n",
              "9   0.032041     0.047629     0.006523     0.170903  0.193953  0.049873   \n",
              "11  0.343536     0.277354     0.017424     0.218105  0.209165  0.104391   \n",
              "13  0.446073     0.045433     0.009082     0.016656  0.854715  0.640100   \n",
              "16  0.031742     0.030783     0.007707     0.027552  0.703543  0.026125   \n",
              "21  0.033460     0.112286     0.014527     0.026887  0.755203  0.042377   \n",
              "22  0.136479     0.333531     0.070811     0.025085  0.262024  0.024665   \n",
              "24  0.467495     0.016328     0.007691     0.015267  0.270156  0.786782   \n",
              "25  0.075253     0.089571     0.012245     0.029028  0.250128  0.164255   \n",
              "32  0.019468     0.029731     0.009833     0.027003  0.837260  0.031877   \n",
              "38  0.024401     0.024844     0.009560     0.025280  0.562662  0.029321   \n",
              "40  0.156828     0.032401     0.005849     0.021923  0.367509  0.692164   \n",
              "54  0.102962     0.082176     0.471152     0.024936  0.899559  0.036082   \n",
              "55  0.043931     0.080801     0.040414     0.020558  0.384035  0.048740   \n",
              "60  0.064404     0.677531     0.193600     0.016343  0.833590  0.024186   \n",
              "64  0.014274     0.020216     0.009823     0.032981  0.719894  0.039317   \n",
              "\n",
              "    p_Documentary   p_Drama  p_Family  p_Fantasy    ...      p_Musical  \\\n",
              "1        0.010513  0.619460  0.054141   0.139913    ...       0.015159   \n",
              "4        0.093382  0.742588  0.016312   0.017296    ...       0.024859   \n",
              "5        0.011034  0.807558  0.012876   0.030324    ...       0.010522   \n",
              "6        0.011465  0.755425  0.015807   0.022847    ...       0.021634   \n",
              "7        0.012719  0.196154  0.034713   0.430375    ...       0.019026   \n",
              "9        0.019861  0.574839  0.012699   0.030931    ...       0.033096   \n",
              "11       0.648836  0.325164  0.112125   0.106850    ...       0.065629   \n",
              "13       0.009782  0.596229  0.029404   0.055968    ...       0.020413   \n",
              "16       0.014347  0.697515  0.012682   0.021020    ...       0.014084   \n",
              "21       0.015098  0.492233  0.178143   0.031168    ...       0.013229   \n",
              "22       0.009183  0.559100  0.212964   0.599225    ...       0.018206   \n",
              "24       0.009429  0.456723  0.014416   0.022601    ...       0.015153   \n",
              "25       0.009153  0.628866  0.057881   0.039287    ...       0.027341   \n",
              "32       0.009812  0.400077  0.031491   0.032280    ...       0.102908   \n",
              "38       0.011924  0.676016  0.030565   0.022397    ...       0.028764   \n",
              "40       0.011956  0.486765  0.017713   0.018000    ...       0.020570   \n",
              "54       0.011065  0.167241  0.474717   0.087707    ...       0.181465   \n",
              "55       0.011543  0.560929  0.137401   0.507344    ...       0.018723   \n",
              "60       0.009632  0.198454  0.894577   0.665025    ...       0.028756   \n",
              "64       0.011546  0.712935  0.021096   0.024256    ...       0.072677   \n",
              "\n",
              "    p_Mystery    p_News  p_Romance  p_Sci-Fi   p_Short   p_Sport  p_Thriller  \\\n",
              "1    0.053240  0.001100   0.617443  0.016422  0.006812  0.004713    0.138889   \n",
              "4    0.021844  0.001100   0.060194  0.009643  0.011057  0.009301    0.134133   \n",
              "5    0.231479  0.001213   0.182957  0.014713  0.003084  0.009209    0.364827   \n",
              "6    0.095856  0.001100   0.108340  0.070716  0.003099  0.008427    0.383562   \n",
              "7    0.091355  0.001115   0.070809  0.890968  0.003636  0.005787    0.286078   \n",
              "9    0.027661  0.001100   0.120624  0.015003  0.005297  0.032038    0.086934   \n",
              "11   0.025769  0.001115   0.193927  0.053485  0.006423  0.050542    0.073375   \n",
              "13   0.022794  0.001100   0.300846  0.016965  0.004292  0.007794    0.337010   \n",
              "16   0.023779  0.001124   0.745062  0.019762  0.003984  0.007411    0.054347   \n",
              "21   0.031553  0.001100   0.418357  0.012465  0.006976  0.006500    0.060623   \n",
              "22   0.042801  0.001100   0.352099  0.058173  0.003099  0.006429    0.119649   \n",
              "24   0.535248  0.001115   0.485611  0.016758  0.003556  0.005398    0.806392   \n",
              "25   0.045284  0.001100   0.091839  0.013832  0.003902  0.008691    0.300191   \n",
              "32   0.029094  0.001100   0.529362  0.008523  0.033128  0.006428    0.055313   \n",
              "38   0.045389  0.001100   0.370584  0.013664  0.003462  0.006800    0.125522   \n",
              "40   0.027892  0.001100   0.131084  0.012689  0.062683  0.005598    0.120254   \n",
              "54   0.027464  0.001100   0.243123  0.071670  0.004852  0.009359    0.088437   \n",
              "55   0.151421  0.001100   0.111241  0.024372  0.003695  0.006798    0.207251   \n",
              "60   0.030932  0.001100   0.256375  0.053898  0.004281  0.008000    0.048955   \n",
              "64   0.069805  0.001132   0.701899  0.014153  0.004361  0.005731    0.055821   \n",
              "\n",
              "       p_War  p_Western  \n",
              "1   0.008096   0.004495  \n",
              "4   0.015376   0.002369  \n",
              "5   0.009081   0.002378  \n",
              "6   0.025585   0.005164  \n",
              "7   0.008290   0.004274  \n",
              "9   0.010282   0.009154  \n",
              "11  0.009385   0.006193  \n",
              "13  0.011559   0.002555  \n",
              "16  0.008784   0.001926  \n",
              "21  0.006489   0.003124  \n",
              "22  0.019195   0.002144  \n",
              "24  0.006716   0.002037  \n",
              "25  0.011017   0.913548  \n",
              "32  0.010666   0.007720  \n",
              "38  0.010400   0.002204  \n",
              "40  0.056351   0.013676  \n",
              "54  0.006061   0.003024  \n",
              "55  0.011589   0.001500  \n",
              "60  0.006000   0.004550  \n",
              "64  0.009239   0.002333  \n",
              "\n",
              "[20 rows x 24 columns]"
            ]
          },
          "metadata": {
            "tags": []
          },
          "execution_count": 126
        }
      ]
    },
    {
      "metadata": {
        "id": "L9-ibn71tT2C",
        "colab_type": "code",
        "colab": {}
      },
      "cell_type": "code",
      "source": [
        "res.to_csv('pred_genres_text_RF4.csv', index_label='ID')\n",
        "\n",
        "from google.colab import files\n",
        "files.download('pred_genres_text_RF4.csv')"
      ],
      "execution_count": 0,
      "outputs": []
    },
    {
      "metadata": {
        "id": "KnXRe_kSywMQ",
        "colab_type": "text"
      },
      "cell_type": "markdown",
      "source": [
        "# Dash"
      ]
    },
    {
      "metadata": {
        "id": "nm6ocqVLVckI",
        "colab_type": "text"
      },
      "cell_type": "markdown",
      "source": [
        "**URL:**  [18.222.130.105:8888](18.222.130.105:8888)\n",
        "\n"
      ]
    },
    {
      "metadata": {
        "id": "ElCo09KeDq5J",
        "colab_type": "code",
        "outputId": "7dadc95f-89b4-4a3a-b9ac-4de02fcc62ec",
        "colab": {
          "base_uri": "https://localhost:8080/",
          "height": 914
        }
      },
      "cell_type": "code",
      "source": [
        "from IPython.display import Image\n",
        "Image('dash_test.jpeg')"
      ],
      "execution_count": 6,
      "outputs": [
        {
          "output_type": "execute_result",
          "data": {
            "image/jpeg": "[encoded data removed]",
            "text/plain": [
              "<IPython.core.display.Image object>"
            ]
          },
          "metadata": {
            "tags": []
          },
          "execution_count": 6
        }
      ]
    }
  ]
}